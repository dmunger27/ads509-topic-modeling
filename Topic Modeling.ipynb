{
 "cells": [
  {
   "cell_type": "markdown",
   "id": "bce2bb89",
   "metadata": {},
   "source": [
    "# ADS 509 Assignment 5.1: Topic Modeling\n",
    "\n",
    "This notebook holds Assignment 5.1 for Module 5 in ADS 509, Applied Text Mining. Work through this notebook, writing code and answering questions where required. \n",
    "\n",
    "In this assignment you will work with a categorical corpus that accompanies `nltk`. You will build the three types of topic models described in Chapter 8 of _Blueprints for Text Analytics using Python_: NMF, LSA, and LDA. You will compare these models to the true categories. \n"
   ]
  },
  {
   "cell_type": "markdown",
   "id": "d87e2c06",
   "metadata": {},
   "source": [
    "## General Assignment Instructions\n",
    "\n",
    "These instructions are included in every assignment, to remind you of the coding standards for the class. Feel free to delete this cell after reading it. \n",
    "\n",
    "One sign of mature code is conforming to a style guide. We recommend the [Google Python Style Guide](https://google.github.io/styleguide/pyguide.html). If you use a different style guide, please include a cell with a link. \n",
    "\n",
    "Your code should be relatively easy-to-read, sensibly commented, and clean. Writing code is a messy process, so please be sure to edit your final submission. Remove any cells that are not needed or parts of cells that contain unnecessary code. Remove inessential `import` statements and make sure that all such statements are moved into the designated cell. \n",
    "\n",
    "Make use of non-code cells for written commentary. These cells should be grammatical and clearly written. In some of these cells you will have questions to answer. The questions will be marked by a \"Q:\" and will have a corresponding \"A:\" spot for you. *Make sure to answer every question marked with a `Q:` for full credit.* \n"
   ]
  },
  {
   "cell_type": "code",
   "execution_count": 1,
   "id": "a85bce08",
   "metadata": {},
   "outputs": [],
   "source": [
    "# These libraries may be useful to you\n",
    "\n",
    "from nltk.corpus import brown\n",
    "\n",
    "import numpy as np\n",
    "import pandas as pd\n",
    "from tqdm.auto import tqdm\n",
    "\n",
    "#import gensim\n",
    "#import gensim.corpora as corpora\n",
    "#from gensim.utils import simple_preprocess\n",
    "#from gensim.models import CoherenceModel,LdaMulticore, Phrases \n",
    "#from gensim.models.phrases import Phraser \n",
    "#from gensim.corpora import Dictionary\n",
    "\n",
    "import pyLDAvis\n",
    "import pyLDAvis.sklearn\n",
    "import pyLDAvis.gensim_models\n",
    "\n",
    "import spacy\n",
    "from sklearn.feature_extraction.text import TfidfVectorizer, CountVectorizer\n",
    "from sklearn.decomposition import NMF, TruncatedSVD, LatentDirichletAllocation\n",
    "\n",
    "from spacy.lang.en.stop_words import STOP_WORDS as stopwords\n",
    "\n",
    "from collections import Counter, defaultdict\n",
    "\n",
    "nlp = spacy.load('en_core_web_sm')\n",
    "\n"
   ]
  },
  {
   "cell_type": "code",
   "execution_count": 2,
   "id": "a218df60",
   "metadata": {},
   "outputs": [],
   "source": [
    "# add any additional libaries you need here\n",
    "import warnings\n",
    "warnings.filterwarnings(\"ignore\")\n",
    "from imp import reload"
   ]
  },
  {
   "cell_type": "code",
   "execution_count": 3,
   "id": "494de237",
   "metadata": {},
   "outputs": [],
   "source": [
    "# This function comes from the BTAP repo.\n",
    "\n",
    "def display_topics(model, features, no_top_words=5):\n",
    "    for topic, words in enumerate(model.components_):\n",
    "        total = words.sum()\n",
    "        largest = words.argsort()[::-1] # invert sort order\n",
    "        print(\"\\nTopic %02d\" % topic)\n",
    "        for i in range(0, no_top_words):\n",
    "            print(\"  %s (%2.2f)\" % (features[largest[i]], abs(words[largest[i]]*100.0/total)))"
   ]
  },
  {
   "cell_type": "markdown",
   "id": "a30a901c",
   "metadata": {},
   "source": [
    "## Getting to Know the Brown Corpus\n",
    "\n",
    "Let's spend a bit of time getting to know what's in the Brown corpus, our NLTK example of an \"overlapping\" corpus."
   ]
  },
  {
   "cell_type": "code",
   "execution_count": 4,
   "id": "457c59ed",
   "metadata": {},
   "outputs": [
    {
     "name": "stdout",
     "output_type": "stream",
     "text": [
      "For adventure we have 29 articles.\n",
      "For belles_lettres we have 75 articles.\n",
      "For editorial we have 27 articles.\n",
      "For fiction we have 29 articles.\n",
      "For government we have 30 articles.\n",
      "For hobbies we have 36 articles.\n",
      "For humor we have 9 articles.\n",
      "For learned we have 80 articles.\n",
      "For lore we have 48 articles.\n",
      "For mystery we have 24 articles.\n",
      "For news we have 44 articles.\n",
      "For religion we have 17 articles.\n",
      "For reviews we have 17 articles.\n",
      "For romance we have 29 articles.\n",
      "For science_fiction we have 6 articles.\n"
     ]
    }
   ],
   "source": [
    "# categories of articles in Brown corpus\n",
    "for category in brown.categories() :\n",
    "    print(f\"For {category} we have {len(brown.fileids(categories=category))} articles.\")"
   ]
  },
  {
   "cell_type": "markdown",
   "id": "23fb133c",
   "metadata": {},
   "source": [
    "Let's create a dataframe of the articles in of hobbies, editorial, government, news, and romance."
   ]
  },
  {
   "cell_type": "code",
   "execution_count": 5,
   "id": "18f50b9d",
   "metadata": {},
   "outputs": [
    {
     "data": {
      "text/plain": [
       "(166, 3)"
      ]
     },
     "execution_count": 5,
     "metadata": {},
     "output_type": "execute_result"
    }
   ],
   "source": [
    "categories = ['editorial','government','news','romance','hobbies'] \n",
    "\n",
    "category_list = []\n",
    "file_ids = []\n",
    "texts = []\n",
    "\n",
    "for category in categories : \n",
    "    for file_id in brown.fileids(categories=category) :\n",
    "        \n",
    "        # build some lists for a dataframe\n",
    "        category_list.append(category)\n",
    "        file_ids.append(file_id)\n",
    "        \n",
    "        text = brown.words(fileids=file_id)\n",
    "        texts.append(\" \".join(text))\n",
    "\n",
    "        \n",
    "        \n",
    "df = pd.DataFrame()\n",
    "df['category'] = category_list\n",
    "df['id'] = file_ids\n",
    "df['text'] = texts \n",
    "\n",
    "df.shape"
   ]
  },
  {
   "cell_type": "code",
   "execution_count": 6,
   "id": "586f47de",
   "metadata": {},
   "outputs": [],
   "source": [
    "# Let's add some helpful columns on the df\n",
    "df['char_len'] = df['text'].apply(len)\n",
    "df['word_len'] = df['text'].apply(lambda x: len(x.split()))\n"
   ]
  },
  {
   "cell_type": "code",
   "execution_count": 7,
   "id": "2128fd2d",
   "metadata": {},
   "outputs": [
    {
     "data": {
      "text/plain": [
       "<AxesSubplot:xlabel='category'>"
      ]
     },
     "execution_count": 7,
     "metadata": {},
     "output_type": "execute_result"
    },
    {
     "data": {
      "image/png": "[encoded data removed]",
      "text/plain": [
       "<Figure size 720x432 with 1 Axes>"
      ]
     },
     "metadata": {
      "needs_background": "light"
     },
     "output_type": "display_data"
    }
   ],
   "source": [
    "%matplotlib inline\n",
    "df.groupby('category').agg({'word_len': 'mean'}).plot.bar(figsize=(10,6))"
   ]
  },
  {
   "cell_type": "markdown",
   "id": "554ffeb5",
   "metadata": {},
   "source": [
    "Now do our TF-IDF and Count vectorizations."
   ]
  },
  {
   "cell_type": "code",
   "execution_count": 8,
   "id": "21a7d247",
   "metadata": {},
   "outputs": [
    {
     "data": {
      "text/plain": [
       "(166, 4941)"
      ]
     },
     "execution_count": 8,
     "metadata": {},
     "output_type": "execute_result"
    }
   ],
   "source": [
    "count_text_vectorizer = CountVectorizer(stop_words=stopwords, min_df=5, max_df=0.7)\n",
    "count_text_vectors = count_text_vectorizer.fit_transform(df[\"text\"])\n",
    "count_text_vectors.shape"
   ]
  },
  {
   "cell_type": "code",
   "execution_count": 9,
   "id": "875deba9",
   "metadata": {},
   "outputs": [
    {
     "data": {
      "text/plain": [
       "(166, 4941)"
      ]
     },
     "execution_count": 9,
     "metadata": {},
     "output_type": "execute_result"
    }
   ],
   "source": [
    "tfidf_text_vectorizer = TfidfVectorizer(stop_words=stopwords, min_df=5, max_df=0.7)\n",
    "tfidf_text_vectors = tfidf_text_vectorizer.fit_transform(df['text'])\n",
    "tfidf_text_vectors.shape"
   ]
  },
  {
   "cell_type": "markdown",
   "id": "a1062b21",
   "metadata": {},
   "source": [
    "Q: What do the two data frames `count_text_vectors` and `tfidf_text_vectors` hold? \n",
    "\n",
    "A: They hold document-term matrices. The count_text_vectors data frame contains raw counts for each word, while the tfidf_text_vectors contains the TF-IDF weight for each word."
   ]
  },
  {
   "cell_type": "markdown",
   "id": "f77c3f94",
   "metadata": {},
   "source": [
    "## Fitting a Non-Negative Matrix Factorization Model\n",
    "\n",
    "In this section the code to fit a five-topic NMF model has already been written. This code comes directly from the [BTAP repo](https://github.com/blueprints-for-text-analytics-python/blueprints-text), which will help you tremendously in the coming sections. "
   ]
  },
  {
   "cell_type": "code",
   "execution_count": 10,
   "id": "d28745a3",
   "metadata": {},
   "outputs": [],
   "source": [
    "nmf_text_model = NMF(n_components=5, random_state=314)\n",
    "W_text_matrix = nmf_text_model.fit_transform(tfidf_text_vectors)\n",
    "H_text_matrix = nmf_text_model.components_"
   ]
  },
  {
   "cell_type": "code",
   "execution_count": 11,
   "id": "a67185e7",
   "metadata": {},
   "outputs": [
    {
     "name": "stdout",
     "output_type": "stream",
     "text": [
      "\n",
      "Topic 00\n",
      "  mr (0.51)\n",
      "  president (0.45)\n",
      "  kennedy (0.43)\n",
      "  united (0.42)\n",
      "  khrushchev (0.40)\n",
      "\n",
      "Topic 01\n",
      "  said (0.88)\n",
      "  didn (0.46)\n",
      "  ll (0.45)\n",
      "  thought (0.42)\n",
      "  man (0.37)\n",
      "\n",
      "Topic 02\n",
      "  state (0.39)\n",
      "  development (0.36)\n",
      "  tax (0.33)\n",
      "  sales (0.30)\n",
      "  program (0.25)\n",
      "\n",
      "Topic 03\n",
      "  mrs (2.61)\n",
      "  mr (0.78)\n",
      "  said (0.63)\n",
      "  miss (0.52)\n",
      "  car (0.51)\n",
      "\n",
      "Topic 04\n",
      "  game (1.02)\n",
      "  league (0.74)\n",
      "  ball (0.72)\n",
      "  baseball (0.71)\n",
      "  team (0.66)\n"
     ]
    }
   ],
   "source": [
    "display_topics(nmf_text_model, tfidf_text_vectorizer.get_feature_names())"
   ]
  },
  {
   "cell_type": "markdown",
   "id": "fee51e9b",
   "metadata": {},
   "source": [
    "Now some work for you to do. Compare the NMF factorization to the original categories from the Brown Corpus."
   ]
  },
  {
   "cell_type": "code",
   "execution_count": 12,
   "id": "7c8c8eb0",
   "metadata": {},
   "outputs": [
    {
     "name": "stdout",
     "output_type": "stream",
     "text": [
      "The top 5 words for the editorial category are:\n",
      "khrushchev    0.479395\n",
      "tests         0.418295\n",
      "editor        0.396777\n",
      "god           0.391121\n",
      "china         0.370659\n",
      "Name: editorial, dtype: float64\n",
      "\n",
      "The top 5 words for the government category are:\n",
      "shelter    0.759300\n",
      "motors     0.703440\n",
      "fiscal     0.694126\n",
      "faculty    0.670545\n",
      "rayburn    0.654645\n",
      "Name: government, dtype: float64\n",
      "\n",
      "The top 5 words for the hobbies category are:\n",
      "pool       0.903746\n",
      "feed       0.816179\n",
      "clay       0.759021\n",
      "bridge     0.747609\n",
      "cooling    0.619117\n",
      "Name: hobbies, dtype: float64\n",
      "\n",
      "The top 5 words for the news category are:\n",
      "mrs        0.862278\n",
      "congo      0.708887\n",
      "player     0.703541\n",
      "library    0.566672\n",
      "dallas     0.533203\n",
      "Name: news, dtype: float64\n",
      "\n",
      "The top 5 words for the romance category are:\n",
      "john         0.733730\n",
      "cousin       0.654009\n",
      "martin       0.604172\n",
      "susan        0.593875\n",
      "alexander    0.591068\n",
      "Name: romance, dtype: float64\n"
     ]
    }
   ],
   "source": [
    "def get_max_vals(vec_df, vectorizer):\n",
    "    # Create dataframe with category labels\n",
    "    brown_text_df = pd.DataFrame(vec_df.toarray(), columns = vectorizer.get_feature_names())\n",
    "    brown_text_df['category'] = df['category']\n",
    "    # Get the max value for each word within each category\n",
    "    brown_text_max_values = pd.DataFrame(brown_text_df.groupby('category').max())\n",
    "\n",
    "    # Top 5 words for editorial category\n",
    "    print('The top 5 words for the editorial category are:')\n",
    "    print(brown_text_max_values.T['editorial'].nlargest(n = 5))\n",
    "\n",
    "    # Top 5 words for the government hobby news romance\n",
    "    print('\\nThe top 5 words for the government category are:')\n",
    "    print(brown_text_max_values.T['government'].nlargest(n = 5))\n",
    "\n",
    "    # Top 5 words for the hobby category\n",
    "    print('\\nThe top 5 words for the hobbies category are:')\n",
    "    print(brown_text_max_values.T['hobbies'].nlargest(n = 5))\n",
    "\n",
    "    # Top 5 words for the news category\n",
    "    print('\\nThe top 5 words for the news category are:')\n",
    "    print(brown_text_max_values.T['news'].nlargest(n = 5))\n",
    "\n",
    "    # Top 5 words for the romance\n",
    "    print('\\nThe top 5 words for the romance category are:')\n",
    "    print(brown_text_max_values.T['romance'].nlargest(n = 5))\n",
    "\n",
    "# Run the function with TF-IDF weights as the max value measure - max values of original categories\n",
    "get_max_vals(tfidf_text_vectors, tfidf_text_vectorizer)"
   ]
  },
  {
   "cell_type": "code",
   "execution_count": 13,
   "id": "f8a652e4",
   "metadata": {},
   "outputs": [
    {
     "name": "stdout",
     "output_type": "stream",
     "text": [
      "The top 5 words for the editorial category are:\n",
      "mr            21\n",
      "khrushchev    20\n",
      "east          19\n",
      "united        19\n",
      "west          17\n",
      "Name: editorial, dtype: int64\n",
      "\n",
      "The top 5 words for the government category are:\n",
      "fiscal      67\n",
      "state       63\n",
      "business    54\n",
      "shelter     53\n",
      "brown       52\n",
      "Name: government, dtype: int64\n",
      "\n",
      "The top 5 words for the hobbies category are:\n",
      "feed        82\n",
      "clay        65\n",
      "pool        51\n",
      "bridge      39\n",
      "aircraft    35\n",
      "Name: hobbies, dtype: int64\n",
      "\n",
      "The top 5 words for the news category are:\n",
      "mrs        98\n",
      "player     34\n",
      "said       31\n",
      "meeting    29\n",
      "congo      28\n",
      "Name: news, dtype: int64\n",
      "\n",
      "The top 5 words for the romance category are:\n",
      "john      52\n",
      "said      26\n",
      "cousin    22\n",
      "boy       21\n",
      "martin    21\n",
      "Name: romance, dtype: int64\n"
     ]
    }
   ],
   "source": [
    "# Top words by count\n",
    "get_max_vals(count_text_vectors, count_text_vectorizer)"
   ]
  },
  {
   "cell_type": "markdown",
   "id": "f8d4e2bc",
   "metadata": {},
   "source": [
    "Q: How does your five-topic NMF model compare to the original Brown categories? \n",
    "\n",
    "A: The five-topic NMF model does not have too much overlap with the top words in the original Brown categories. There a couple words that overlap and are in the same category ('mrs', 'said'), but as a general rule it does not appear that the top words as measured by count and TF-IDF weight overlap with the top words as given by NMF model.\n",
    "\n",
    "However, the NMF model does highlight some consistent topics. For example, Topic 04 appears to be related to baseball games."
   ]
  },
  {
   "cell_type": "markdown",
   "id": "82e37cb5",
   "metadata": {},
   "source": [
    "## Fitting an LSA Model\n",
    "\n",
    "In this section, follow the example from the repository and fit an LSA model (called a \"TruncatedSVD\" in `sklearn`). Again fit a five-topic model and compare it to the actual categories in the Brown corpus. Use the TF-IDF vectors for your fit, as above. "
   ]
  },
  {
   "cell_type": "code",
   "execution_count": 14,
   "id": "00b53d3d",
   "metadata": {},
   "outputs": [],
   "source": [
    "# Fit truncated SVD model (LSA)\n",
    "svd_text_model = TruncatedSVD(n_components=5, random_state=314)\n",
    "W_svd_text_matrix = svd_text_model.fit_transform(tfidf_text_vectors)\n",
    "H_svd_text_matrix = svd_text_model.components_"
   ]
  },
  {
   "cell_type": "markdown",
   "id": "4d94d56f",
   "metadata": {},
   "source": [
    "Q: How does your five-topic LSA model compare to the original Brown categories? \n",
    "\n",
    "A: The LSA model is more similar to the NMF topics, and the same differences exist with the top words in the Brown categories versus the LSA model topics. Overall, there is not much overlap between the original categories and the LSA topics. However, again, there are some clear topics in the LSA model, like Topic 02 and Topic 04."
   ]
  },
  {
   "cell_type": "code",
   "execution_count": 15,
   "id": "377a886e",
   "metadata": {},
   "outputs": [
    {
     "name": "stdout",
     "output_type": "stream",
     "text": [
      "\n",
      "Topic 00\n",
      "  said (0.44)\n",
      "  mr (0.25)\n",
      "  mrs (0.22)\n",
      "  state (0.20)\n",
      "  man (0.17)\n",
      "\n",
      "Topic 01\n",
      "  said (3.89)\n",
      "  ll (2.73)\n",
      "  didn (2.63)\n",
      "  thought (2.20)\n",
      "  got (1.97)\n",
      "\n",
      "Topic 02\n",
      "  mrs (3.12)\n",
      "  mr (1.70)\n",
      "  said (1.06)\n",
      "  kennedy (0.82)\n",
      "  khrushchev (0.77)\n",
      "\n",
      "Topic 03\n",
      "  mrs (29.45)\n",
      "  club (6.53)\n",
      "  game (6.12)\n",
      "  jr (5.60)\n",
      "  university (5.20)\n",
      "\n",
      "Topic 04\n",
      "  game (4.54)\n",
      "  league (3.27)\n",
      "  baseball (3.22)\n",
      "  ball (3.10)\n",
      "  team (2.94)\n"
     ]
    }
   ],
   "source": [
    "# call display_topics on your model\n",
    "display_topics(svd_text_model, tfidf_text_vectorizer.get_feature_names())"
   ]
  },
  {
   "cell_type": "markdown",
   "id": "ea8b280a",
   "metadata": {},
   "source": [
    "Q: What is your interpretation of the display topics output? \n",
    "\n",
    "A: The display topics shows the topics generated by the model and the relative contribution of each word to the topic. For example, the word 'mrs' in Topic 03 has a larger contribution to the topic group than the word 'university'.\n",
    "\n",
    "The display topics output also shows that some topics are consistent, even if they do not match with the original categories. Topic 02 could be related to politics, Topic 04 related to sports, and Topic 03 to university extra-curriculars."
   ]
  },
  {
   "cell_type": "markdown",
   "id": "b4ab4d29",
   "metadata": {},
   "source": [
    "## Fitting an LDA Model\n",
    "\n",
    "Finally, fit a five-topic LDA model using the count vectors (`count_text_vectors` from above). Display the results using `pyLDAvis.display` and describe what you learn from that visualization. "
   ]
  },
  {
   "cell_type": "code",
   "execution_count": 16,
   "id": "802cb8ff",
   "metadata": {},
   "outputs": [],
   "source": [
    "# Fit your LDA model here\n",
    "lda_text_model = LatentDirichletAllocation(n_components=5, random_state=314)\n",
    "W_lda_text_matrix = lda_text_model.fit_transform(count_text_vectors)\n",
    "H_lda_text_matrix = lda_text_model.components_"
   ]
  },
  {
   "cell_type": "code",
   "execution_count": 17,
   "id": "ab18adf5",
   "metadata": {},
   "outputs": [
    {
     "name": "stdout",
     "output_type": "stream",
     "text": [
      "\n",
      "Topic 00\n",
      "  said (1.05)\n",
      "  mrs (0.82)\n",
      "  little (0.56)\n",
      "  good (0.51)\n",
      "  way (0.50)\n",
      "\n",
      "Topic 01\n",
      "  state (0.67)\n",
      "  development (0.63)\n",
      "  000 (0.57)\n",
      "  program (0.48)\n",
      "  business (0.44)\n",
      "\n",
      "Topic 02\n",
      "  said (1.18)\n",
      "  mr (0.72)\n",
      "  president (0.51)\n",
      "  city (0.43)\n",
      "  state (0.37)\n",
      "\n",
      "Topic 03\n",
      "  feed (0.55)\n",
      "  college (0.54)\n",
      "  general (0.44)\n",
      "  university (0.43)\n",
      "  work (0.37)\n",
      "\n",
      "Topic 04\n",
      "  states (1.14)\n",
      "  state (1.02)\n",
      "  united (0.84)\n",
      "  shall (0.66)\n",
      "  government (0.61)\n"
     ]
    }
   ],
   "source": [
    "# Call `display_topics` on your fitted model here\n",
    "display_topics(lda_text_model, count_text_vectorizer.get_feature_names())"
   ]
  },
  {
   "cell_type": "markdown",
   "id": "f2c67876",
   "metadata": {},
   "source": [
    "Q: What inference do you draw from the displayed topics for your LDA model? \n",
    "\n",
    "A: The displayed topics are similar in some ways to the previous models, but do have a few more similarities to the original Brown categories. It appears that the topics that seem to come up the most are related to government and news. It would therefore appear that the government, news, and editorial categories are most likely to be grouped into topics. \n",
    "\n",
    "The LDA model is creating topics based on the content of the articles. Article content could be fairly similar across a few of the Brown categories. For example, news and government articles could have a fair amount of overlap when it comes to content. This is what is likely causing the generated topics to vary from the original Brown categories.\n",
    "\n",
    "\n",
    "Q: How does your five-topic LDA model compare to the original Brown categories? \n",
    "\n",
    "A: The LDA model topics have some overlap with the original Brown categories, particularly in the government, news, and editorial categories. The reason for this overlap and the lack of overlap with the hobbies and romance categories is explained in the previous section. Overall, there is more similarity between LDA topics and the Brown categories than the other models. This similarity is limited to the previously mentioned categories, however."
   ]
  },
  {
   "cell_type": "code",
   "execution_count": 18,
   "id": "6aae75ca",
   "metadata": {
    "collapsed": true
   },
   "outputs": [
    {
     "name": "stderr",
     "output_type": "stream",
     "text": [
      "/Users/dallinmunger/opt/anaconda3/lib/python3.9/site-packages/past/builtins/misc.py:45: DeprecationWarning: the imp module is deprecated in favour of importlib; see the module's documentation for alternative uses\n",
      "  from imp import reload\n",
      "/Users/dallinmunger/opt/anaconda3/lib/python3.9/site-packages/past/builtins/misc.py:45: DeprecationWarning: the imp module is deprecated in favour of importlib; see the module's documentation for alternative uses\n",
      "  from imp import reload\n",
      "/Users/dallinmunger/opt/anaconda3/lib/python3.9/site-packages/past/builtins/misc.py:45: DeprecationWarning: the imp module is deprecated in favour of importlib; see the module's documentation for alternative uses\n",
      "  from imp import reload\n",
      "/Users/dallinmunger/opt/anaconda3/lib/python3.9/site-packages/past/builtins/misc.py:45: DeprecationWarning: the imp module is deprecated in favour of importlib; see the module's documentation for alternative uses\n",
      "  from imp import reload\n",
      "/Users/dallinmunger/opt/anaconda3/lib/python3.9/site-packages/past/builtins/misc.py:45: DeprecationWarning: the imp module is deprecated in favour of importlib; see the module's documentation for alternative uses\n",
      "  from imp import reload\n",
      "/Users/dallinmunger/opt/anaconda3/lib/python3.9/site-packages/past/builtins/misc.py:45: DeprecationWarning: the imp module is deprecated in favour of importlib; see the module's documentation for alternative uses\n",
      "  from imp import reload\n",
      "/Users/dallinmunger/opt/anaconda3/lib/python3.9/site-packages/past/builtins/misc.py:45: DeprecationWarning: the imp module is deprecated in favour of importlib; see the module's documentation for alternative uses\n",
      "  from imp import reload\n",
      "/Users/dallinmunger/opt/anaconda3/lib/python3.9/site-packages/past/builtins/misc.py:45: DeprecationWarning: the imp module is deprecated in favour of importlib; see the module's documentation for alternative uses\n",
      "  from imp import reload\n"
     ]
    }
   ],
   "source": [
    "lda_display = pyLDAvis.sklearn.prepare(lda_text_model, count_text_vectors, count_text_vectorizer, sort_topics=False)"
   ]
  },
  {
   "cell_type": "code",
   "execution_count": 19,
   "id": "2a89fc15",
   "metadata": {},
   "outputs": [
    {
     "data": {
      "text/html": [
       "\n",
       "<link rel=\"stylesheet\" type=\"text/css\" href=\"https://cdn.jsdelivr.net/gh/bmabey/pyLDAvis@3.3.1/pyLDAvis/js/ldavis.v1.0.0.css\">\n",
       "\n",
       "\n",
       "<div id=\"ldavis_el460611403727200407529788451707\"></div>\n",
       "<script type=\"text/javascript\">\n",
       "\n",
       "var ldavis_el460611403727200407529788451707_data = {\"mdsDat\": {\"x\": [-0.24352303362204109, 0.13055719395525936, -0.05665667547392697, 0.041427484839751214, 0.12819503030095775], \"y\": [0.006829720679473146, -0.05588474470164753, 0.03852366287446663, -0.11285215230955752, 0.12338351345726527], \"topics\": [1, 2, 3, 4, 5], \"cluster\": [1, 1, 1, 1, 1], \"Freq\": [22.89695729653444, 20.4319685428419, 32.00626407252682, 12.36882561293212, 12.295984475164717]}, \"tinfo\": {\"Term\": [\"states\", \"state\", \"said\", \"mrs\", \"united\", \"shall\", \"development\", \"tax\", \"feed\", \"fiscal\", \"college\", \"government\", \"ll\", \"don\", \"000\", \"university\", \"department\", \"didn\", \"sales\", \"president\", \"rhode\", \"got\", \"equipment\", \"little\", \"mother\", \"class\", \"act\", \"program\", \"system\", \"property\", \"hair\", \"baby\", \"clothes\", \"walls\", \"anne\", \"fig\", \"pale\", \"pink\", \"dry\", \"yellow\", \"entrance\", \"hadn\", \"ham\", \"couldn\", \"frames\", \"fingers\", \"flowers\", \"windows\", \"bride\", \"hell\", \"handsome\", \"coat\", \"cloth\", \"sweet\", \"stared\", \"liked\", \"colored\", \"studio\", \"bed\", \"trees\", \"shelter\", \"mother\", \"looked\", \"clay\", \"wasn\", \"guests\", \"didn\", \"woman\", \"sat\", \"pieces\", \"colors\", \"eyes\", \"drill\", \"mrs\", \"ll\", \"don\", \"thought\", \"room\", \"sun\", \"inch\", \"ve\", \"black\", \"little\", \"knew\", \"went\", \"sure\", \"got\", \"door\", \"look\", \"son\", \"know\", \"said\", \"way\", \"come\", \"came\", \"good\", \"place\", \"away\", \"old\", \"water\", \"right\", \"man\", \"let\", \"life\", \"left\", \"house\", \"day\", \"home\", \"systems\", \"marketing\", \"electronic\", \"boats\", \"missiles\", \"components\", \"aircraft\", \"machine\", \"rhode\", \"assessment\", \"shipments\", \"laboratory\", \"bankers\", \"savings\", \"yield\", \"industrial\", \"forests\", \"compared\", \"machines\", \"procurement\", \"missile\", \"conservation\", \"utility\", \"inventories\", \"polaris\", \"manufacturing\", \"machinery\", \"investment\", \"recreation\", \"banks\", \"property\", \"industry\", \"equipment\", \"sales\", \"radiation\", \"planning\", \"development\", \"medical\", \"providence\", \"billion\", \"system\", \"shares\", \"manufacturers\", \"island\", \"1960\", \"production\", \"1959\", \"products\", \"research\", \"co\", \"range\", \"000\", \"program\", \"business\", \"cost\", \"million\", \"available\", \"state\", \"small\", \"company\", \"national\", \"1961\", \"provide\", \"areas\", \"service\", \"use\", \"military\", \"tax\", \"public\", \"khrushchev\", \"player\", \"rayburn\", \"congo\", \"republican\", \"moscow\", \"southern\", \"baseball\", \"railroad\", \"castro\", \"troops\", \"yards\", \"charter\", \"yankees\", \"premier\", \"alexander\", \"democrats\", \"captain\", \"chinese\", \"coach\", \"laos\", \"gen\", \"cuban\", \"opposition\", \"soviet\", \"katanga\", \"republicans\", \"pope\", \"bombs\", \"robinson\", \"berlin\", \"speaker\", \"communist\", \"democratic\", \"eisenhower\", \"league\", \"mayor\", \"cuba\", \"st\", \"police\", \"yesterday\", \"china\", \"west\", \"monday\", \"race\", \"john\", \"east\", \"kennedy\", \"city\", \"mr\", \"meeting\", \"party\", \"president\", \"said\", \"week\", \"war\", \"political\", \"nations\", \"game\", \"committee\", \"leaders\", \"american\", \"world\", \"york\", \"home\", \"county\", \"man\", \"united\", \"people\", \"house\", \"state\", \"day\", \"old\", \"000\", \"government\", \"men\", \"national\", \"states\", \"school\", \"academic\", \"faculty\", \"trustees\", \"campus\", \"recognition\", \"classical\", \"professors\", \"mathematics\", \"musical\", \"tends\", \"feed\", \"stockholders\", \"fulfill\", \"meat\", \"unions\", \"chemical\", \"motors\", \"prosperity\", \"cattle\", \"prestige\", \"designer\", \"curriculum\", \"clerical\", \"catholic\", \"collective\", \"recorded\", \"appearances\", \"creative\", \"membership\", \"trust\", \"music\", \"chamber\", \"students\", \"student\", \"colleges\", \"teachers\", \"college\", \"engineer\", \"interior\", \"university\", \"daily\", \"pool\", \"schools\", \"education\", \"art\", \"general\", \"anti\", \"members\", \"technical\", \"labor\", \"design\", \"administration\", \"level\", \"work\", \"school\", \"president\", \"problem\", \"board\", \"department\", \"american\", \"good\", \"men\", \"aid\", \"world\", \"high\", \"cousin\", \"rehabilitation\", \"coal\", \"vocational\", \"definition\", \"denied\", \"thereof\", \"bonds\", \"payment\", \"rico\", \"puerto\", \"coordination\", \"filing\", \"adopting\", \"recommendation\", \"calendar\", \"hated\", \"proceedings\", \"commodities\", \"sectors\", \"connections\", \"62\", \"vehicles\", \"allocation\", \"treasury\", \"tractor\", \"adjustments\", \"upstairs\", \"shall\", \"assigned\", \"india\", \"exercise\", \"interference\", \"payments\", \"fiscal\", \"authorized\", \"claim\", \"stations\", \"insurance\", \"claims\", \"class\", \"states\", \"income\", \"return\", \"tax\", \"united\", \"junior\", \"hearing\", \"act\", \"countries\", \"cars\", \"state\", \"agreement\", \"department\", \"government\", \"secretary\", \"officer\", \"section\", \"title\", \"federal\", \"use\", \"service\", \"30\", \"board\", \"services\", \"pay\", \"local\", \"day\"], \"Freq\": [328.0, 485.0, 803.0, 307.0, 298.0, 123.0, 199.0, 172.0, 93.0, 107.0, 120.0, 273.0, 167.0, 178.0, 282.0, 122.0, 153.0, 124.0, 117.0, 297.0, 86.0, 147.0, 105.0, 237.0, 97.0, 97.0, 127.0, 230.0, 142.0, 95.0, 35.2660316976795, 35.259854572870864, 32.3428239171505, 32.338808089183956, 34.23407300433102, 31.32761923162944, 26.498517625454504, 25.52477104102502, 23.57323677816412, 25.42713825332057, 21.61942811514906, 30.99304467895144, 19.675700186736574, 51.43981707238507, 20.589733305570036, 17.726312752092976, 23.30504081082284, 16.751973310918498, 17.677966184967975, 15.781789493525487, 15.7806661627821, 15.765038139000252, 14.807347406646537, 14.80685767925679, 14.806525243898381, 14.805562659021431, 15.721341674975063, 14.793031300690537, 34.148748494261206, 27.742455010304475, 57.20416985925253, 90.05985801714496, 78.93387784968824, 75.71076669182487, 53.90723878296294, 29.98283937143006, 108.7307394199304, 50.25085074519481, 34.93419186644634, 48.297523762670515, 27.141746207592963, 83.99183249657617, 31.328311483268113, 234.3324322419547, 134.73682388828402, 142.22532063651937, 113.48998687104904, 84.70739288661413, 47.851073173593335, 58.281643606515395, 69.82209572678212, 54.44733492420298, 159.93873456068212, 71.32903793545282, 100.47914727932263, 70.80739412891502, 101.54763550743179, 56.56434544201599, 89.1493795819194, 57.94278765631469, 112.80221967394866, 300.19157995269927, 143.08214720581606, 108.66785528409187, 97.93192846288152, 146.7201649075107, 107.6369595930095, 81.83857826579641, 125.33252753577926, 93.6542775665297, 105.80662989454584, 122.43392673750668, 76.3788274785793, 81.85609009063336, 81.25833894745249, 87.71132897871951, 85.95109916972139, 84.11085690371237, 37.6203391769688, 41.2604304371482, 26.108504126894093, 38.01490066718645, 22.240995977940422, 21.223514374686523, 54.248483592252676, 50.3947000619191, 82.33814930496474, 17.226327234067025, 13.59950271707891, 16.290888590985343, 10.740632157231783, 17.005387252552147, 15.133342494227328, 72.03843499105996, 14.938223060272385, 24.574363297208016, 28.908173871233405, 17.44886776203957, 36.584742597938316, 7.854789008100243, 11.322258118599919, 6.910963131905761, 6.906977941612574, 18.167211407818062, 30.17941537930659, 24.91805800990384, 32.62393120086363, 16.26783135418067, 85.04409531611398, 85.23076408361712, 92.04061867537715, 102.21030740338131, 31.41994186225806, 72.29354736159651, 160.5845669566941, 84.12221117794105, 39.27101304252776, 47.153525908302264, 110.99031567699527, 32.52656888050946, 35.56961213374265, 88.51387155669526, 93.2095888709795, 63.849746128262396, 50.27196273949973, 49.69605754659339, 72.63469421541134, 46.826210408830455, 53.984967876890714, 144.62866634727456, 123.50896845655397, 113.19861054790832, 73.61038906890694, 79.16133829903188, 74.66204969189862, 169.4652034229643, 100.4296096564495, 76.12853270707278, 92.20105914345264, 67.16061893470149, 66.5012565002119, 62.631295228027405, 86.66947068148056, 95.41631280398252, 65.2538935255831, 67.84173831149613, 65.61364145319455, 73.42554374783121, 48.67768498296593, 46.70642783836323, 43.733374934891856, 39.77817876808444, 37.80010747839431, 34.82722841019422, 39.61877024477501, 32.841809048472676, 29.881397928372547, 26.91281765701296, 26.899591011392967, 27.8602954975716, 25.92561583302561, 24.935202646112838, 24.927860722599323, 23.946196773271826, 23.93872466553853, 22.949710429481552, 22.940661109611238, 49.614781943724104, 21.955319680146967, 20.974708622899154, 20.95696065584775, 78.92743956978478, 19.982341472209367, 19.97284168478857, 19.967439518925538, 18.99653596416776, 18.994551077568076, 63.22425972645918, 40.66068656369514, 70.96278176057116, 59.0046576018412, 38.64663320997925, 57.99120476200683, 43.21771150153887, 36.74625566194077, 71.47530467432694, 44.37915026504135, 58.029653582731285, 32.828237255154924, 96.08418538831432, 58.46515417030856, 40.50565929609303, 142.9836847835181, 83.85420121427468, 111.14875577393451, 172.62353200026436, 287.87814236030096, 84.13213702614425, 92.01772270153529, 205.40634873734763, 470.8902208582271, 140.7626514325602, 113.01139950261586, 71.05038233620002, 67.1651888988563, 73.87620209973907, 83.76171945290704, 50.00246714063654, 148.64615016805416, 138.13586962558094, 96.83009236355024, 140.02404620727538, 76.83350051553276, 129.5803754748478, 125.62152536157656, 118.36210204722805, 110.56501449328135, 148.84517946191224, 119.60071243642523, 108.76991140081186, 105.3053680375764, 99.52164947706414, 90.46561781119043, 91.57849254494312, 96.15786407278692, 83.84436994950715, 27.814826569302756, 48.936847090043706, 18.50350998538597, 14.87946847708756, 15.47394115216424, 9.373352607053864, 8.429864173735861, 7.546272419664452, 18.414920463159127, 7.518959799427076, 84.44155436104484, 18.268486568333195, 6.622128289059264, 19.541713824662413, 18.587130254335904, 23.14611199920263, 38.251971813159464, 4.773288678682475, 17.381566736920455, 10.238816773832227, 14.802706325018882, 7.011676741661566, 4.663272913791559, 25.479595882436094, 10.014582060857435, 7.582398158918746, 4.540015041328756, 12.853649254073641, 19.425628383036674, 29.706978723475064, 46.82501087835092, 21.450400541392458, 52.99436840195966, 54.955281373609516, 16.31100829518641, 25.620730698223664, 83.62014229714056, 24.941675902345843, 28.633459492336442, 67.01241734256314, 33.33126174189996, 43.627376544116956, 49.320379208309305, 46.41828570415974, 34.85619603196488, 67.6689962592212, 32.10381351159178, 51.6230281444565, 31.177936996002938, 33.89549304217495, 35.04082063901758, 44.49327955892635, 35.22883442674164, 56.488612527783296, 47.167119511566064, 55.68778966133641, 39.6415053605225, 42.71566054538799, 38.01482404768393, 43.01510978367286, 42.90256178570284, 38.257154409179265, 34.068781601686005, 37.62879650451432, 34.84607073269739, 24.895381739117976, 17.608710471055954, 22.617152720693426, 12.9883547176809, 12.08165117895219, 17.255761258059255, 11.043916669732528, 28.504391307942033, 36.7518717272335, 17.29261904159073, 17.289973715259762, 6.58620182237204, 15.531276371536105, 5.669749860722197, 16.069958421934736, 20.125736782358203, 5.626627615289123, 6.416436823858527, 14.343171489794207, 4.761534756745245, 5.547238482984892, 5.53250883375718, 35.569508144024006, 10.223530392476135, 22.866566967658468, 19.4993734117372, 10.913572827235178, 5.430408333634583, 101.16733937850303, 9.141628146127054, 29.60437781154297, 21.94557072459191, 28.49445862632915, 31.902747941396882, 82.2435050790092, 23.61999226739098, 32.823688144755906, 43.57399739685013, 25.757310222259683, 22.21335819721851, 63.52515544416805, 175.30239292056584, 50.03986268624438, 41.1610124343598, 86.65875331991558, 128.3923792638734, 39.91034171743832, 33.81578682770454, 65.0107752835119, 47.4206053462017, 40.209279592813, 156.29426259716698, 38.83917469224569, 66.04762002987005, 93.49618556474506, 54.839090750251046, 32.98378789632114, 41.66456800174158, 29.989970407909478, 43.2330513755676, 57.37752089386105, 52.701149146646074, 42.224181185309995, 42.52715360132924, 36.82910800278579, 37.09681062937526, 36.74442128741918, 37.17615767602688], \"Total\": [328.0, 485.0, 803.0, 307.0, 298.0, 123.0, 199.0, 172.0, 93.0, 107.0, 120.0, 273.0, 167.0, 178.0, 282.0, 122.0, 153.0, 124.0, 117.0, 297.0, 86.0, 147.0, 105.0, 237.0, 97.0, 97.0, 127.0, 230.0, 142.0, 95.0, 36.02603912499985, 36.02588883819036, 33.10322172299765, 33.10319945151621, 35.05056255948612, 32.12853787483271, 27.25759589658223, 26.283381057698207, 24.334723323645928, 26.284575607309367, 22.38617131270356, 32.13491772930472, 20.437642353730425, 53.485417657861355, 21.41300921211937, 18.48897769781579, 24.319878358135636, 17.514841028502047, 18.48997788651865, 16.540707205667314, 16.54068383919485, 16.540152118252486, 15.566432075823176, 15.566368553159581, 15.566439385894089, 15.56640853615906, 16.54112310277151, 15.566128130021557, 35.96189057796924, 29.21687336390236, 60.42030248595256, 97.5081366544042, 85.71452146351682, 82.76557482881313, 58.488069645836035, 32.15043643449322, 124.77305109139074, 55.49593407027593, 37.89639184076529, 53.44875378566885, 29.18685535443567, 98.42108266493295, 34.10865925517126, 307.99715835781404, 167.83422712513695, 178.1854227837812, 139.82171036116083, 103.42674442190594, 54.56223811623199, 68.76954856434932, 84.83647160041039, 64.26201397041541, 237.7527797142564, 90.51973633420366, 137.7059309562873, 91.77444009129968, 147.79376856176168, 70.06214294099411, 129.86657516906672, 73.99592681862174, 191.48072080434142, 803.8548070648295, 274.85427260577234, 186.07372334983492, 163.1589979967047, 306.4340359076894, 190.15544412730654, 123.89985251249685, 254.8494682894125, 162.71698521260248, 213.57338284403218, 283.01536045192023, 121.95636925526729, 161.530177161579, 163.20991301290172, 234.12184367687408, 302.34647433345043, 268.5137641979603, 38.389001812768846, 42.21975114655718, 26.87023951148849, 39.325305112537485, 23.031355908186356, 22.069023878838756, 56.67664066614095, 52.835411858251334, 86.46800449904791, 18.221477632163285, 14.390064081926623, 17.262361508112328, 11.511442662430964, 18.237457198455765, 16.292903446551147, 78.46760127905368, 16.28419722696022, 26.802268957257592, 31.645263380810654, 19.14727441136658, 40.18955772227331, 8.63175043356374, 12.45816909897065, 7.671836647717209, 7.671950307157879, 20.18844642310027, 33.582287155475164, 27.758165731678794, 36.44648449277573, 18.179838892874397, 95.59958109020087, 96.93212392160397, 105.65758026062854, 117.78573708942231, 35.55944348942251, 85.01192732215917, 199.00113683933102, 101.02292341395632, 45.14381488359436, 54.90118963074976, 142.6626279152401, 37.275769525790786, 41.99097586369722, 120.3327704568789, 129.7781845158142, 84.83256378608147, 63.72708403807201, 62.84418723668017, 102.98876739202466, 59.70895018137997, 72.90815716855998, 282.9442741244363, 230.32157269786703, 209.32374748162178, 115.94033775080979, 128.9930469541295, 119.71572579817428, 485.52547392812016, 211.37539248235052, 138.53740854960478, 215.7342231481858, 114.91801537520551, 112.93575546782296, 99.90679935398617, 203.57909034218522, 253.4486972460468, 123.30539886857126, 172.8096418311658, 200.80538207395293, 74.18132611605124, 49.44169052826691, 47.46260119923941, 44.49359036010493, 40.535513996171346, 38.55638985076475, 35.58752782843547, 40.52408901130403, 33.60786999510344, 30.639652232810214, 27.67089434123131, 27.670809878218442, 28.6591359337703, 26.681481371686946, 25.691806203590623, 25.69167832547868, 24.702282074756557, 24.70215427298779, 23.71248703300203, 23.711939322752954, 51.34436129166909, 22.722416271833232, 21.733411082028475, 21.73225191921753, 81.93116365784131, 20.743599793201966, 20.742911377657382, 20.743329613458645, 19.754257834892858, 19.754312772549575, 66.10674015267462, 42.436983762163, 74.99667222533026, 62.130383241294616, 40.45277924173403, 61.2073242728594, 45.379272772809266, 38.47958552212628, 78.03996648950974, 47.29725623534732, 63.02723087036462, 34.52865293710649, 108.34119862739148, 64.00922906655559, 43.34070314169638, 171.40817645781522, 96.50766365165026, 132.04188079153838, 217.90548917781652, 392.8566393536834, 99.38191347480661, 110.41190710132177, 297.0893859119429, 803.8548070648295, 190.95279899715112, 148.12895827305633, 84.33186741272112, 80.65436811910891, 91.54281280787268, 111.05863796939234, 55.265203097107104, 262.87614880789016, 256.0899824588552, 148.46972078147328, 268.5137641979603, 105.84498183835267, 283.01536045192023, 298.7240339741694, 265.61772341053467, 234.12184367687408, 485.52547392812016, 302.34647433345043, 254.8494682894125, 282.9442741244363, 273.1049196397214, 193.49518722056044, 215.7342231481858, 328.08766300343314, 171.6826664515604, 28.587671191002865, 50.75235104005464, 19.38080581059398, 15.693304333758885, 16.633414863075203, 10.165631588135183, 9.24571212382062, 8.322226888959051, 20.34853979312963, 8.322341294361456, 93.52912134200898, 20.350673528278275, 7.401195317063836, 22.202972880525117, 21.263556998272573, 26.864176614307766, 44.46685073473464, 5.559156794388772, 20.429848324794317, 12.080566726948897, 17.616166085442206, 8.34457166407932, 5.5636145258568925, 30.740062340111095, 12.097121988775966, 9.309062259927508, 5.57581096537123, 15.790102910241016, 24.236359627179457, 37.14065807513553, 59.64261324812848, 27.081082977874352, 68.974386988663, 71.6827549228916, 20.467141713564434, 33.34760135025247, 120.99975166695644, 32.58028930812074, 39.896080519574866, 122.31078776847788, 52.49852760150617, 75.2321283027008, 89.45812584148683, 84.56146294600374, 57.49325835273573, 198.00621277778868, 57.797206402033375, 140.21994582812462, 57.24356765830152, 68.3421630002253, 74.72871037779427, 131.4090715711944, 82.98496450235837, 256.9778623927558, 171.6826664515604, 297.0893859119429, 117.36282478725462, 173.0251476470948, 153.03062002567162, 262.87614880789016, 306.4340359076894, 193.49518722056044, 99.64739691842239, 256.0899824588552, 217.960932031602, 25.71990035695816, 18.37920616005881, 23.88499509622222, 13.795801363596595, 12.87739387343771, 18.395872134442172, 11.96555553731713, 31.30178852783012, 40.525553449448225, 19.305747619464793, 19.305381735641998, 7.373665018594355, 17.516110794478664, 6.456504867903872, 18.386543136832, 23.075914689335157, 6.45937095632742, 7.374057915469402, 16.593451639249768, 5.538818995171579, 6.462219526241366, 6.45720421674405, 41.5824484408158, 11.963052970316342, 26.87025406073884, 23.091351462145624, 12.931560935207875, 6.471692815484688, 123.04949327572999, 11.129093826135751, 36.08726596770423, 26.774612595552842, 35.19197255344375, 39.79154818535335, 107.51555928474966, 29.573704296915608, 42.54665994150674, 57.808559354594, 33.29164203718925, 28.65897514261263, 97.16968285832581, 328.08766300343314, 79.94285226747938, 64.56516799991914, 172.8096418311658, 298.7240339741694, 62.79076549191276, 50.55168073966496, 127.86759220361677, 82.8743517684048, 65.84647973719717, 485.52547392812016, 64.87874739797846, 153.03062002567162, 273.1049196397214, 119.84296064796654, 52.256274530525005, 81.49566812100727, 44.58064300425609, 112.63804601931184, 253.4486972460468, 203.57909034218522, 114.38793137157597, 173.0251476470948, 93.38657624530416, 103.890585899905, 128.42114372832106, 302.34647433345043], \"Category\": [\"Default\", \"Default\", \"Default\", \"Default\", \"Default\", \"Default\", \"Default\", \"Default\", \"Default\", \"Default\", \"Default\", \"Default\", \"Default\", \"Default\", \"Default\", \"Default\", \"Default\", \"Default\", \"Default\", \"Default\", \"Default\", \"Default\", \"Default\", \"Default\", \"Default\", \"Default\", \"Default\", \"Default\", \"Default\", \"Default\", \"Topic1\", \"Topic1\", \"Topic1\", \"Topic1\", \"Topic1\", \"Topic1\", \"Topic1\", \"Topic1\", \"Topic1\", \"Topic1\", \"Topic1\", \"Topic1\", \"Topic1\", \"Topic1\", \"Topic1\", \"Topic1\", \"Topic1\", \"Topic1\", \"Topic1\", \"Topic1\", \"Topic1\", \"Topic1\", \"Topic1\", \"Topic1\", \"Topic1\", \"Topic1\", \"Topic1\", \"Topic1\", \"Topic1\", \"Topic1\", \"Topic1\", \"Topic1\", \"Topic1\", \"Topic1\", \"Topic1\", \"Topic1\", \"Topic1\", \"Topic1\", \"Topic1\", \"Topic1\", \"Topic1\", \"Topic1\", \"Topic1\", \"Topic1\", \"Topic1\", \"Topic1\", \"Topic1\", \"Topic1\", \"Topic1\", \"Topic1\", \"Topic1\", \"Topic1\", \"Topic1\", \"Topic1\", \"Topic1\", \"Topic1\", \"Topic1\", \"Topic1\", \"Topic1\", \"Topic1\", \"Topic1\", \"Topic1\", \"Topic1\", \"Topic1\", \"Topic1\", \"Topic1\", \"Topic1\", \"Topic1\", \"Topic1\", \"Topic1\", \"Topic1\", \"Topic1\", \"Topic1\", \"Topic1\", \"Topic1\", \"Topic1\", \"Topic1\", \"Topic1\", \"Topic2\", \"Topic2\", \"Topic2\", \"Topic2\", \"Topic2\", \"Topic2\", \"Topic2\", \"Topic2\", \"Topic2\", \"Topic2\", \"Topic2\", \"Topic2\", \"Topic2\", \"Topic2\", \"Topic2\", \"Topic2\", \"Topic2\", \"Topic2\", \"Topic2\", \"Topic2\", \"Topic2\", \"Topic2\", \"Topic2\", \"Topic2\", \"Topic2\", \"Topic2\", \"Topic2\", \"Topic2\", \"Topic2\", \"Topic2\", \"Topic2\", \"Topic2\", \"Topic2\", \"Topic2\", \"Topic2\", \"Topic2\", \"Topic2\", \"Topic2\", \"Topic2\", \"Topic2\", \"Topic2\", \"Topic2\", \"Topic2\", \"Topic2\", \"Topic2\", \"Topic2\", \"Topic2\", \"Topic2\", \"Topic2\", \"Topic2\", \"Topic2\", \"Topic2\", \"Topic2\", \"Topic2\", \"Topic2\", \"Topic2\", \"Topic2\", \"Topic2\", \"Topic2\", \"Topic2\", \"Topic2\", \"Topic2\", \"Topic2\", \"Topic2\", \"Topic2\", \"Topic2\", \"Topic2\", \"Topic2\", \"Topic2\", \"Topic3\", \"Topic3\", \"Topic3\", \"Topic3\", \"Topic3\", \"Topic3\", \"Topic3\", \"Topic3\", \"Topic3\", \"Topic3\", \"Topic3\", \"Topic3\", \"Topic3\", \"Topic3\", \"Topic3\", \"Topic3\", \"Topic3\", \"Topic3\", \"Topic3\", \"Topic3\", \"Topic3\", \"Topic3\", \"Topic3\", \"Topic3\", \"Topic3\", \"Topic3\", \"Topic3\", \"Topic3\", \"Topic3\", \"Topic3\", \"Topic3\", \"Topic3\", \"Topic3\", \"Topic3\", \"Topic3\", \"Topic3\", \"Topic3\", \"Topic3\", \"Topic3\", \"Topic3\", \"Topic3\", \"Topic3\", \"Topic3\", \"Topic3\", \"Topic3\", \"Topic3\", \"Topic3\", \"Topic3\", \"Topic3\", \"Topic3\", \"Topic3\", \"Topic3\", \"Topic3\", \"Topic3\", \"Topic3\", \"Topic3\", \"Topic3\", \"Topic3\", \"Topic3\", \"Topic3\", \"Topic3\", \"Topic3\", \"Topic3\", \"Topic3\", \"Topic3\", \"Topic3\", \"Topic3\", \"Topic3\", \"Topic3\", \"Topic3\", \"Topic3\", \"Topic3\", \"Topic3\", \"Topic3\", \"Topic3\", \"Topic3\", \"Topic3\", \"Topic3\", \"Topic3\", \"Topic4\", \"Topic4\", \"Topic4\", \"Topic4\", \"Topic4\", \"Topic4\", \"Topic4\", \"Topic4\", \"Topic4\", \"Topic4\", \"Topic4\", \"Topic4\", \"Topic4\", \"Topic4\", \"Topic4\", \"Topic4\", \"Topic4\", \"Topic4\", \"Topic4\", \"Topic4\", \"Topic4\", \"Topic4\", \"Topic4\", \"Topic4\", \"Topic4\", \"Topic4\", \"Topic4\", \"Topic4\", \"Topic4\", \"Topic4\", \"Topic4\", \"Topic4\", \"Topic4\", \"Topic4\", \"Topic4\", \"Topic4\", \"Topic4\", \"Topic4\", \"Topic4\", \"Topic4\", \"Topic4\", \"Topic4\", \"Topic4\", \"Topic4\", \"Topic4\", \"Topic4\", \"Topic4\", \"Topic4\", \"Topic4\", \"Topic4\", \"Topic4\", \"Topic4\", \"Topic4\", \"Topic4\", \"Topic4\", \"Topic4\", \"Topic4\", \"Topic4\", \"Topic4\", \"Topic4\", \"Topic4\", \"Topic4\", \"Topic4\", \"Topic4\", \"Topic4\", \"Topic5\", \"Topic5\", \"Topic5\", \"Topic5\", \"Topic5\", \"Topic5\", \"Topic5\", \"Topic5\", \"Topic5\", \"Topic5\", \"Topic5\", \"Topic5\", \"Topic5\", \"Topic5\", \"Topic5\", \"Topic5\", \"Topic5\", \"Topic5\", \"Topic5\", \"Topic5\", \"Topic5\", \"Topic5\", \"Topic5\", \"Topic5\", \"Topic5\", \"Topic5\", \"Topic5\", \"Topic5\", \"Topic5\", \"Topic5\", \"Topic5\", \"Topic5\", \"Topic5\", \"Topic5\", \"Topic5\", \"Topic5\", \"Topic5\", \"Topic5\", \"Topic5\", \"Topic5\", \"Topic5\", \"Topic5\", \"Topic5\", \"Topic5\", \"Topic5\", \"Topic5\", \"Topic5\", \"Topic5\", \"Topic5\", \"Topic5\", \"Topic5\", \"Topic5\", \"Topic5\", \"Topic5\", \"Topic5\", \"Topic5\", \"Topic5\", \"Topic5\", \"Topic5\", \"Topic5\", \"Topic5\", \"Topic5\", \"Topic5\", \"Topic5\", \"Topic5\", \"Topic5\", \"Topic5\", \"Topic5\"], \"logprob\": [30.0, 29.0, 28.0, 27.0, 26.0, 25.0, 24.0, 23.0, 22.0, 21.0, 20.0, 19.0, 18.0, 17.0, 16.0, 15.0, 14.0, 13.0, 12.0, 11.0, 10.0, 9.0, 8.0, 7.0, 6.0, 5.0, 4.0, 3.0, 2.0, 1.0, -6.6963, -6.6965, -6.7828, -6.7829, -6.726, -6.8147, -6.9821, -7.0195, -7.0991, -7.0234, -7.1856, -6.8254, -7.2798, -6.3188, -7.2344, -7.3841, -7.1105, -7.4407, -7.3869, -7.5003, -7.5004, -7.5014, -7.5641, -7.5641, -7.5641, -7.5642, -7.5042, -7.565, -6.7285, -6.9362, -6.2126, -5.7587, -5.8906, -5.9323, -6.2719, -6.8586, -5.5703, -6.3422, -6.7057, -6.3818, -6.9581, -5.8285, -6.8147, -4.8025, -5.3559, -5.3018, -5.5275, -5.82, -6.3911, -6.1939, -6.0132, -6.262, -5.1844, -5.9919, -5.6492, -5.9992, -5.6387, -6.2238, -5.7689, -6.1997, -5.5336, -4.5548, -5.2958, -5.5709, -5.6749, -5.2707, -5.5804, -5.8544, -5.4282, -5.7196, -5.5976, -5.4516, -5.9235, -5.8542, -5.8616, -5.7851, -5.8054, -5.8271, -6.5177, -6.4254, -6.883, -6.5073, -7.0434, -7.0902, -6.1517, -6.2254, -5.7345, -7.2989, -7.5353, -7.3547, -7.7713, -7.3118, -7.4284, -5.8681, -7.4414, -6.9436, -6.7812, -7.286, -6.5457, -8.0842, -7.7185, -8.2122, -8.2128, -7.2457, -6.7381, -6.9297, -6.6602, -7.3561, -5.7021, -5.6999, -5.6231, -5.5183, -6.6978, -5.8646, -5.0665, -5.713, -6.4748, -6.2919, -5.4358, -6.6632, -6.5738, -5.6621, -5.6104, -5.9888, -6.2278, -6.2394, -5.8598, -6.2988, -6.1566, -5.1711, -5.329, -5.4161, -5.8465, -5.7738, -5.8323, -5.0126, -5.5358, -5.8129, -5.6213, -5.9382, -5.9481, -6.008, -5.6832, -5.587, -5.967, -5.9281, -5.9615, -6.2979, -6.7089, -6.7502, -6.816, -6.9108, -6.9618, -7.0437, -6.9148, -7.1024, -7.1969, -7.3015, -7.302, -7.2669, -7.3389, -7.3778, -7.3781, -7.4183, -7.4186, -7.4608, -7.4612, -6.6898, -7.5051, -7.5508, -7.5517, -6.2256, -7.5993, -7.5997, -7.6, -7.6499, -7.65, -6.4474, -6.8889, -6.332, -6.5165, -6.9397, -6.5338, -6.8279, -6.9901, -6.3248, -6.8014, -6.5332, -7.1028, -6.0289, -6.5257, -6.8927, -5.6314, -6.165, -5.8833, -5.443, -4.9316, -6.1617, -6.0721, -5.2691, -4.4395, -5.647, -5.8666, -6.3307, -6.387, -6.2917, -6.1661, -6.6821, -5.5926, -5.6659, -6.0212, -5.6523, -6.2525, -5.7298, -5.7608, -5.8204, -5.8885, -5.5912, -5.81, -5.9049, -5.9373, -5.9937, -6.0892, -6.0769, -6.0281, -6.1652, -6.3178, -5.7528, -6.7254, -6.9434, -6.9042, -7.4055, -7.5116, -7.6223, -6.7302, -7.6259, -5.2073, -6.7382, -7.753, -6.6708, -6.7209, -6.5015, -5.9992, -8.0803, -6.788, -7.3172, -6.9486, -7.6958, -8.1037, -6.4055, -7.3393, -7.6175, -8.1304, -7.0897, -6.6768, -6.252, -5.797, -6.5776, -5.6732, -5.6369, -6.8515, -6.4, -5.2171, -6.4268, -6.2888, -5.4385, -6.1369, -5.8677, -5.745, -5.8057, -6.0921, -5.4287, -6.1744, -5.6994, -6.2037, -6.1201, -6.0869, -5.848, -6.0815, -5.6093, -5.7897, -5.6236, -5.9635, -5.8888, -6.0054, -5.8818, -5.8844, -5.999, -6.115, -6.0156, -6.0924, -6.4228, -6.7691, -6.5188, -7.0734, -7.1458, -6.7893, -7.2356, -6.2874, -6.0333, -6.7872, -6.7873, -7.7525, -6.8946, -7.9023, -6.8605, -6.6355, -7.91, -7.7786, -6.9742, -8.0769, -7.9242, -7.9268, -6.066, -7.3128, -6.5078, -6.6671, -7.2475, -7.9454, -5.0207, -7.4246, -6.2495, -6.5489, -6.2878, -6.1748, -5.2278, -6.4754, -6.1463, -5.863, -6.3887, -6.5368, -5.486, -4.471, -5.7246, -5.92, -5.1755, -4.7824, -5.9508, -6.1165, -5.4629, -5.7784, -5.9434, -4.5857, -5.978, -5.4471, -5.0995, -5.6331, -6.1414, -5.9078, -6.2366, -5.8709, -5.5878, -5.6728, -5.8945, -5.8873, -6.0312, -6.0239, -6.0335, -6.0218], \"loglift\": [30.0, 29.0, 28.0, 27.0, 26.0, 25.0, 24.0, 23.0, 22.0, 21.0, 20.0, 19.0, 18.0, 17.0, 16.0, 15.0, 14.0, 13.0, 12.0, 11.0, 10.0, 9.0, 8.0, 7.0, 6.0, 5.0, 4.0, 3.0, 2.0, 1.0, 1.4528, 1.4527, 1.4509, 1.4508, 1.4506, 1.4489, 1.4459, 1.4449, 1.4424, 1.441, 1.4393, 1.438, 1.4362, 1.4352, 1.435, 1.432, 1.4315, 1.4296, 1.4293, 1.4272, 1.4271, 1.4262, 1.4242, 1.4241, 1.4241, 1.4241, 1.4233, 1.4232, 1.4224, 1.4224, 1.4195, 1.3947, 1.3918, 1.3851, 1.3926, 1.4044, 1.3365, 1.3749, 1.3928, 1.3728, 1.4015, 1.3156, 1.3891, 1.2008, 1.2545, 1.2488, 1.2655, 1.2745, 1.3429, 1.3087, 1.2794, 1.3084, 1.0777, 1.2359, 1.159, 1.2148, 1.0989, 1.2602, 1.098, 1.2296, 0.945, 0.4892, 0.8213, 0.9363, 0.9637, 0.7377, 0.9051, 1.0594, 0.7645, 0.9218, 0.7718, 0.6362, 1.0062, 0.7944, 0.7768, 0.4924, 0.2164, 0.3134, 1.5678, 1.5651, 1.5593, 1.5542, 1.5532, 1.549, 1.5443, 1.5408, 1.5391, 1.5319, 1.5316, 1.5301, 1.5188, 1.5181, 1.5142, 1.5026, 1.5018, 1.5013, 1.4976, 1.4952, 1.4941, 1.4937, 1.4925, 1.4836, 1.483, 1.4826, 1.4812, 1.4801, 1.4773, 1.4769, 1.4711, 1.4594, 1.4501, 1.4462, 1.4643, 1.426, 1.3736, 1.405, 1.4487, 1.4359, 1.337, 1.4518, 1.4221, 1.281, 1.2571, 1.3039, 1.3509, 1.3533, 1.2389, 1.345, 1.2876, 0.917, 0.9649, 0.9733, 1.1338, 1.0998, 1.1159, 0.5355, 0.8439, 0.9894, 0.738, 1.0509, 1.0585, 1.1211, 0.7341, 0.6112, 0.9517, 0.6531, 0.4695, 1.129, 1.1237, 1.1232, 1.122, 1.1204, 1.1194, 1.1176, 1.1166, 1.1162, 1.1142, 1.1115, 1.111, 1.111, 1.1105, 1.1093, 1.1091, 1.1082, 1.1078, 1.1065, 1.1062, 1.105, 1.1049, 1.1037, 1.1029, 1.1019, 1.1018, 1.1014, 1.1011, 1.1001, 1.1, 1.0947, 1.0965, 1.084, 1.0876, 1.0936, 1.0853, 1.0904, 1.0931, 1.0514, 1.0756, 1.0566, 1.0887, 1.0192, 1.0486, 1.0716, 0.9579, 0.9987, 0.967, 0.9063, 0.8283, 0.9727, 0.957, 0.7702, 0.6044, 0.8343, 0.8686, 0.9679, 0.9562, 0.9248, 0.8572, 1.0392, 0.5691, 0.5219, 0.7118, 0.4882, 0.8189, 0.358, 0.273, 0.3309, 0.389, -0.0431, 0.2118, 0.2878, 0.1509, 0.1298, 0.379, 0.2824, -0.0881, 0.4226, 2.0626, 2.0536, 2.0437, 2.0367, 2.0177, 2.0088, 1.9976, 1.9921, 1.9901, 1.9885, 1.9878, 1.9821, 1.9788, 1.9623, 1.9555, 1.941, 1.9394, 1.9376, 1.9284, 1.9246, 1.916, 1.916, 1.9135, 1.9023, 1.9011, 1.8848, 1.8845, 1.8842, 1.8687, 1.8667, 1.848, 1.8569, 1.8264, 1.8243, 1.863, 1.8264, 1.7205, 1.8228, 1.7583, 1.4883, 1.6357, 1.5451, 1.4946, 1.4902, 1.5896, 1.0163, 1.502, 1.0907, 1.4824, 1.3887, 1.3326, 1.007, 1.2332, 0.575, 0.798, 0.4157, 1.0046, 0.6911, 0.6973, 0.2799, 0.1239, 0.4691, 1.0167, 0.1722, 0.2566, 2.0633, 2.0531, 2.0414, 2.0356, 2.0321, 2.0319, 2.0157, 2.0023, 1.9982, 1.9858, 1.9856, 1.983, 1.9756, 1.966, 1.9612, 1.9591, 1.9579, 1.9568, 1.9502, 1.9447, 1.9432, 1.9413, 1.9397, 1.9388, 1.9346, 1.9268, 1.9262, 1.9205, 1.9001, 1.8992, 1.8979, 1.897, 1.8848, 1.8749, 1.8279, 1.8711, 1.8364, 1.8132, 1.8393, 1.8411, 1.6709, 1.4691, 1.6274, 1.6457, 1.4057, 1.2515, 1.6427, 1.6938, 1.4195, 1.5376, 1.6027, 0.9624, 1.5828, 1.2556, 1.024, 1.3141, 1.6358, 1.425, 1.6995, 1.1383, 0.6104, 0.7445, 1.0993, 0.6926, 1.1654, 1.0661, 0.8446, -0.0]}, \"token.table\": {\"Topic\": [1, 2, 3, 4, 5, 2, 3, 2, 3, 5, 1, 2, 3, 4, 5, 1, 2, 3, 4, 5, 5, 4, 1, 2, 3, 4, 5, 2, 5, 2, 3, 4, 5, 5, 2, 3, 5, 1, 2, 3, 4, 5, 2, 3, 3, 4, 5, 1, 2, 3, 4, 5, 1, 3, 4, 5, 4, 1, 2, 3, 4, 5, 1, 2, 3, 4, 2, 3, 5, 2, 4, 5, 1, 2, 4, 5, 1, 3, 4, 5, 1, 2, 2, 5, 3, 1, 5, 3, 4, 2, 3, 1, 3, 4, 1, 2, 3, 4, 5, 2, 5, 3, 2, 5, 1, 1, 2, 3, 4, 5, 1, 2, 5, 1, 2, 3, 5, 4, 3, 2, 3, 5, 3, 3, 4, 1, 3, 4, 3, 4, 3, 2, 4, 3, 4, 3, 1, 2, 3, 5, 2, 3, 4, 5, 2, 3, 4, 5, 1, 3, 4, 5, 4, 1, 2, 3, 4, 1, 1, 1, 2, 3, 4, 3, 4, 5, 1, 3, 4, 1, 2, 3, 4, 1, 2, 3, 4, 1, 1, 2, 1, 2, 3, 4, 5, 2, 3, 4, 2, 4, 5, 2, 3, 5, 2, 3, 4, 5, 2, 5, 2, 3, 5, 2, 5, 1, 2, 3, 4, 5, 1, 5, 2, 3, 4, 5, 2, 3, 4, 5, 5, 2, 3, 4, 3, 5, 3, 2, 4, 1, 2, 3, 4, 5, 1, 2, 3, 4, 5, 5, 3, 4, 3, 2, 5, 2, 3, 4, 5, 1, 2, 4, 2, 4, 1, 2, 4, 5, 1, 3, 4, 1, 2, 3, 4, 5, 1, 3, 4, 1, 3, 1, 1, 2, 3, 5, 1, 2, 3, 4, 5, 3, 5, 2, 1, 2, 4, 1, 1, 2, 4, 1, 4, 5, 1, 3, 4, 1, 4, 2, 3, 4, 5, 1, 2, 3, 4, 1, 2, 5, 1, 2, 5, 1, 2, 5, 1, 4, 1, 2, 3, 4, 3, 1, 2, 3, 4, 5, 1, 2, 3, 4, 5, 1, 3, 2, 3, 4, 5, 1, 3, 1, 3, 1, 1, 1, 5, 3, 4, 5, 1, 1, 2, 3, 4, 5, 1, 2, 3, 4, 5, 1, 2, 3, 4, 5, 1, 2, 3, 4, 1, 2, 4, 5, 2, 3, 4, 5, 2, 4, 2, 3, 4, 5, 2, 3, 4, 5, 2, 3, 4, 5, 2, 3, 4, 5, 2, 2, 4, 1, 2, 3, 4, 5, 1, 2, 3, 4, 5, 1, 3, 4, 5, 3, 2, 3, 4, 5, 3, 1, 3, 4, 5, 1, 2, 3, 4, 5, 2, 3, 4, 5, 2, 3, 5, 1, 2, 3, 1, 3, 4, 1, 3, 4, 5, 1, 2, 3, 4, 5, 1, 2, 3, 4, 5, 1, 2, 3, 4, 5, 1, 1, 2, 3, 4, 5, 1, 3, 4, 5, 1, 2, 3, 4, 5, 1, 2, 3, 4, 5, 1, 2, 3, 5, 2, 3, 2, 3, 5, 1, 2, 4, 1, 2, 3, 4, 5, 2, 4, 2, 3, 2, 4, 3, 4, 3, 4, 5, 2, 4, 5, 1, 2, 3, 4, 1, 2, 3, 4, 2, 3, 4, 1, 2, 3, 4, 5, 2, 3, 5, 1, 2, 3, 4, 5, 2, 4, 2, 1, 3, 4, 5, 3, 1, 3, 2, 4, 1, 2, 3, 4, 5, 1, 3, 1, 4, 2, 4, 1, 2, 3, 4, 5, 2, 3, 4, 5, 2, 3, 4, 5, 1, 2, 3, 4, 5, 3, 1, 1, 3, 4, 1, 2, 3, 4, 5, 2, 5, 2, 5, 1, 2, 3, 4, 5, 1, 2, 3, 4, 1, 1, 2, 3, 4, 5, 1, 2, 4, 5, 3, 2, 3, 4, 5, 2, 3, 4, 5, 1, 2, 4, 5, 3, 3, 1, 2, 3, 4, 5, 3, 4, 2, 3, 4, 5, 5, 2, 5, 1, 2, 3, 4, 5, 1, 2, 4, 5, 4, 2, 3, 4, 5, 1, 2, 4, 5, 4, 1, 2, 3, 4, 5, 2, 3, 4, 2, 3, 4, 5, 4, 5, 3, 5, 1, 2, 3, 1, 2, 3, 4, 5, 3, 1, 4, 4, 5, 3, 4, 1, 2, 5, 5, 3, 3, 1, 2, 3, 4, 5, 1, 3, 4, 5, 2, 3, 4, 5, 1, 2, 3, 4, 5, 3, 1, 3, 5, 1, 2, 3, 4, 5, 2, 3, 4, 5, 1, 3, 4, 1, 2, 1, 2, 3, 4, 5, 1, 2, 3, 4, 5, 2, 3, 4, 5, 1, 2, 4, 5, 5, 1, 2, 3, 4, 5, 2, 3, 4, 5, 1, 2, 3, 4, 5, 2, 3, 5, 1, 3, 2, 1, 2, 3, 4, 5, 1, 3, 4, 5, 3, 3, 4, 3, 4, 5, 1, 3, 1, 1, 2, 3, 4, 5, 2, 3, 4, 5, 2, 3, 5, 2, 4, 1, 2, 3, 4, 5, 1, 2, 3, 4, 5, 1, 1, 3, 5, 1, 3, 4, 5, 1, 1, 2, 3, 4, 5, 2, 2, 4, 5, 3, 4, 5, 2, 4, 4, 5, 1, 2, 3, 4, 5, 1, 3, 4, 5, 2, 5, 3, 5, 1, 3, 3, 2, 3, 4, 5, 4, 2, 4, 5, 2, 3, 4, 5, 1, 2, 3, 4, 5, 1, 2, 3, 4, 5, 2, 4, 1, 2, 3, 5, 2, 3, 5, 5, 1, 1, 2, 3, 4, 5, 1, 3, 1, 2, 4, 5, 1, 2, 3, 4, 5, 1, 2, 3, 4, 5, 1, 3, 4, 2, 3, 5, 1, 1, 3, 4, 1, 2, 3, 4, 5, 1, 2, 3, 4, 5, 3, 3, 1, 1, 3, 4, 2, 5, 1, 2, 3, 4, 5], \"Freq\": [0.003534264840999077, 0.5124684019448662, 0.3710978083049031, 0.021205589045994462, 0.09542515070697508, 0.7845957610445328, 0.2039948978715785, 0.7166073431137221, 0.1926363825574522, 0.09246546362757704, 0.008701855812032741, 0.5830243394061937, 0.21754639530081854, 0.052211134872196446, 0.1479315488045566, 0.01748436199535099, 0.1748436199535099, 0.39339814489539726, 0.04371090498837747, 0.36717160190237075, 0.9291947100637636, 0.979443194687792, 0.01564117979804604, 0.21897651717264457, 0.08602648888925322, 0.17987356767752946, 0.5083383434364963, 0.07733018504188219, 0.850632035460704, 0.2815635142810841, 0.3120028131222824, 0.3348322872531811, 0.06848842239269613, 0.9292953575899529, 0.15413367860908467, 0.231200517913627, 0.6011213465754303, 0.010035385077029786, 0.3713092478501021, 0.20070770154059575, 0.34120309261901277, 0.07024769553920851, 0.9527734771383514, 0.035287906560679684, 0.9730777290328777, 0.08359070234674024, 0.8359070234674023, 0.038040727716640424, 0.1521629108665617, 0.5668068429779424, 0.1635751291815538, 0.08368960097660894, 0.9700272268753704, 0.39794310887646694, 0.5536599775672584, 0.03460374859795365, 0.8967305439608114, 0.06005597255439058, 0.6305877118211011, 0.18016791766317172, 0.06005597255439058, 0.06005597255439058, 0.20872012378176508, 0.05218003094544127, 0.1391467491878434, 0.6087670276968148, 0.9329649517552178, 0.08985457536997156, 0.808691178329744, 0.13525529165506603, 0.03381382291376651, 0.8115317499303962, 0.10859057916849096, 0.6264841105874479, 0.10859057916849096, 0.1587093080154868, 0.6618248394745205, 0.29055724659857, 0.024213103883214168, 0.03228413851095222, 0.9715235662110067, 0.9555709325556456, 0.8800958080146252, 0.05500598800091407, 0.9870672228767972, 0.9454452881525889, 0.027807214357429083, 0.9530041846640819, 0.030254101100447045, 0.8560834531293223, 0.12750179089160119, 0.8403097983337438, 0.10892904793215197, 0.031122585123471994, 0.13292865408738858, 0.034677040196710064, 0.340990895267649, 0.24851878807642214, 0.24851878807642214, 0.9662989235876276, 0.025428919041779675, 0.9618179614138387, 0.06389411257512712, 0.9264646323393432, 0.9735003530276853, 0.1098776430133392, 0.5398336374133622, 0.1289867983200069, 0.14809595362667458, 0.07165933240000383, 0.04333522694388203, 0.04333522694388203, 0.8667045388776405, 0.6006410998060879, 0.09193486221521753, 0.30032054990304397, 0.006128990814347836, 0.9558216473080514, 0.9715751806410015, 0.12149472579140384, 0.2733631330306587, 0.6074736289570193, 0.9791233846928181, 0.16265419193622657, 0.8132709596811328, 0.09789597887384881, 0.048947989436924404, 0.8321158204277149, 0.18463072559118388, 0.7754490474829723, 0.9770008441533783, 0.11167288106653567, 0.8561587548434402, 0.9557279880019961, 0.02896145418187867, 0.969953087079798, 0.06424803731573571, 0.08719376492849847, 0.7939221754015913, 0.05506974627063061, 0.09401443040415418, 0.04700721520207709, 0.07051082280311563, 0.775619050834272, 0.10467924917312699, 0.034893083057708996, 0.06978616611541799, 0.7676478272695979, 0.15436913612108955, 0.12349530889687164, 0.0720389301898418, 0.6586416474499821, 0.8853360385895108, 0.9182561730187146, 0.048329272264142874, 0.024164636132071437, 0.8986963379224973, 0.9636119521118186, 0.9666732823702409, 0.05024372377820737, 0.7871516725252488, 0.133983263408553, 0.03349581585213825, 0.969975491541942, 0.041867289315800006, 0.9629476542634001, 0.9673429775983491, 0.16532857995940303, 0.8266428997970152, 0.18181855497153002, 0.02479343931429955, 0.0991737572571982, 0.6942163008003873, 0.09771760160699508, 0.09771760160699508, 0.04885880080349754, 0.7817408128559606, 0.9672861933612691, 0.9250739647050287, 0.034261998692778836, 0.585789320693446, 0.05374213951316018, 0.295581767322381, 0.04836792556184417, 0.016122641853948055, 0.05402551399607111, 0.7563571959449955, 0.18908929898624888, 0.06026473706257853, 0.06026473706257853, 0.8437063188760995, 0.026667849927939823, 0.9467086724418637, 0.026667849927939823, 0.5485882895866888, 0.20211147511088534, 0.151583606333164, 0.09383747058719677, 0.932756851290026, 0.07462054810320208, 0.9515599835902209, 0.9889064839202658, 0.9284735647923419, 0.9268108550604941, 0.9493243837830883, 0.07762613232457259, 0.6382593102242635, 0.025875377441524197, 0.043125629069207, 0.21562814534603497, 0.9535309292383165, 0.018696684887025816, 0.15686397205650482, 0.265462106557162, 0.01206645938896191, 0.5671235912812097, 0.24564225481853655, 0.7274789854241275, 0.009447779031482176, 0.018895558062964352, 0.9720099865486687, 0.12666161907677348, 0.06333080953838674, 0.8233005239990276, 0.9615488186255151, 0.025987805908797706, 0.9662542120396859, 0.11983838598986168, 0.8388687019290318, 0.0380963065322735, 0.05714445979841025, 0.1904815326613675, 0.6285890577825127, 0.076192613064547, 0.28444188141963495, 0.09922391212312846, 0.39689564849251385, 0.09591644838569084, 0.12237615828519177, 0.9318655713989213, 0.9496159032346991, 0.04828555440176436, 0.9715701540193235, 0.05436002124235919, 0.9241203611201063, 0.26138559716538956, 0.058811759362212654, 0.2483163173071201, 0.4312862353228928, 0.3345434421872317, 0.18734432762484976, 0.4683608190621244, 0.1135320812882649, 0.8514906096619869, 0.010050193841931437, 0.8090406042754807, 0.05527606613062291, 0.12562742302414298, 0.8735860752508354, 0.10418916493817303, 0.016029102298180466, 0.7969226538374559, 0.01683639409515752, 0.14030328412631266, 0.01683639409515752, 0.02806065682526253, 0.813563468191446, 0.12845738971443885, 0.05709217320641726, 0.9088601157871676, 0.05863613650239791, 0.9862450326969331, 0.031085614203952398, 0.07253309980922226, 0.8703971977106671, 0.020723742802634934, 0.011825717828918647, 0.34294581703864074, 0.08278002480243053, 0.5439830201302578, 0.023651435657837293, 0.9640870350822464, 0.024720180386724265, 0.967613258113445, 0.061386809094463556, 0.1534670227361589, 0.7673351136807944, 0.9827495596585372, 0.10410989890991247, 0.8707373363374498, 0.018929072529074994, 0.07469762607628512, 0.07469762607628512, 0.8216738868391363, 0.8534756753893022, 0.12192509648418604, 0.020320849414031006, 0.019703520713962246, 0.9654725149841501, 0.328485811922344, 0.22194987292050272, 0.07102395933456086, 0.38175378142326466, 0.06415114259503982, 0.010691857099173304, 0.021383714198346608, 0.8981159963305575, 0.9648742846864273, 0.05709029885305446, 0.9134447816488713, 0.9735530159748337, 0.23252448451473645, 0.7626803092083355, 0.9457284144805723, 0.9211384381396404, 0.06140922920930936, 0.9807122292794973, 0.9457931726056655, 0.07646695338815283, 0.10923850484021833, 0.8083649358176156, 0.010923850484021834, 0.9682068903592467, 0.020201386329675306, 0.22221524962642836, 0.2676683688681978, 0.3434235676044802, 0.15151039747256478, 0.47971172511751425, 0.0815836267206657, 0.21864411961138405, 0.140323837959545, 0.0815836267206657, 0.6901508838471435, 0.3112445162447902, 0.2050494003325715, 0.36615964345102053, 0.08787831442824492, 0.34052846840944906, 0.9331133050440931, 0.06220755366960621, 0.9646827249142215, 0.03111879757787811, 0.9715195133875308, 0.9785864560033001, 0.9673118811500621, 0.9288830198121022, 0.2769443032388637, 0.05934520783689937, 0.6725790221515262, 0.9673105146627556, 0.2110469962265095, 0.29363060344557845, 0.2569267780148811, 0.1605792362593007, 0.07799562904023177, 0.3128331251506029, 0.08938089290017226, 0.5213885419176715, 0.04469044645008613, 0.0335178348375646, 0.3758726593724172, 0.06834048352225768, 0.4741121044356626, 0.06834048352225768, 0.01708512088056442, 0.843396549938495, 0.043623959479577326, 0.014541319826525775, 0.08724791895915465, 0.012508935716405484, 0.26268765004451516, 0.0875625500148384, 0.6254467858202742, 0.05542121150961868, 0.08313181726442802, 0.02771060575480934, 0.8313181726442802, 0.9175761566094903, 0.07646467971745752, 0.8769022751296118, 0.06189898412679613, 0.030949492063398067, 0.020632994708932043, 0.12015027662293441, 0.030037569155733603, 0.060075138311467206, 0.7809767980490737, 0.08524671344989532, 0.08524671344989532, 0.028415571149965107, 0.7956359921990229, 0.12532559426600234, 0.02506511885320047, 0.7268884467428136, 0.12532559426600234, 0.9124281865520277, 0.900635879245758, 0.07205087033966064, 0.07479259362041481, 0.739615648024102, 0.13296461088073744, 0.01662057636009218, 0.03324115272018436, 0.12251457564025979, 0.011668054822881885, 0.8342659198360548, 0.02333610964576377, 0.005834027411440942, 0.015925908725046466, 0.2707404483257899, 0.07962954362523234, 0.6370363490018587, 0.964152808547451, 0.00757335471144003, 0.8406423729698433, 0.05301348298008021, 0.09845361124872039, 0.9840751550571751, 0.7843593328405669, 0.15466240365870332, 0.011047314547050237, 0.04418925818820095, 0.5901377408928051, 0.01044491576801425, 0.2872351836203919, 0.0626694946080855, 0.047002120956064125, 0.14632255639855932, 0.3365418797166864, 0.4974966917551017, 0.014632255639855932, 0.9268720268939398, 0.9738167686217334, 0.019476335372434667, 0.03618913688755975, 0.054283705331339624, 0.9047284221889937, 0.016337913997711232, 0.9475990118672514, 0.016337913997711232, 0.49629338380688287, 0.44114967449500697, 0.04901663049944522, 0.01838123643729196, 0.6231736846882031, 0.00819965374589741, 0.2049913436474352, 0.10659549869666632, 0.05739757622128186, 0.08435262992491929, 0.4097127739210366, 0.0361511271106797, 0.4217631496245965, 0.0482015028142396, 0.5076450818101637, 0.04333555576428227, 0.26620412826630535, 0.14857904833468205, 0.03714476208367051, 0.963613409294549, 0.6729679467566952, 0.008412099334458691, 0.20189038402700857, 0.05047259600675214, 0.06729679467566953, 0.8043651304768973, 0.17874780677264385, 0.005958260225754795, 0.01191652045150959, 0.015573759444403194, 0.4672127833320958, 0.18688511333283833, 0.03893439861100798, 0.28811454972145906, 0.6853187579955459, 0.12320337222391836, 0.10780295069592856, 0.046201264583969386, 0.038501053819974485, 0.9216641317145455, 0.023333269157330267, 0.046666538314660534, 0.011666634578665134, 0.9463350098252612, 0.03785340039301045, 0.8933280768254309, 0.0595552051216954, 0.0297776025608477, 0.031600305801417004, 0.9164088682410931, 0.031600305801417004, 0.431072008972198, 0.021200262736337606, 0.45933902595398146, 0.08126767382262749, 0.003533377122722934, 0.8573270627683448, 0.14288784379472413, 0.8915990672468893, 0.049533281513716075, 0.9711094662229754, 0.961281169900986, 0.9475691736022068, 0.04407298481870729, 0.04503901371140842, 0.9007802742281684, 0.04503901371140842, 0.8314944485995284, 0.05939246061425203, 0.09898743435708672, 0.030186579178318018, 0.08049754447551472, 0.8452242169929045, 0.030186579178318018, 0.04992157113354108, 0.07131653019077297, 0.5134790173735654, 0.37084595699201944, 0.041260321904060496, 0.12378096571218149, 0.7839461161771494, 0.1705468775426652, 0.15504261594787747, 0.4651278478436324, 0.19638731353397812, 0.010336174396525165, 0.5271464234042355, 0.42982708369883815, 0.0324397799017991, 0.007752355833222579, 0.6124361108245838, 0.16279947249767418, 0.031009423332890317, 0.1860565399973419, 0.9206371529561364, 0.07464625564509214, 0.9552194880623694, 0.031245494269590994, 0.9061193338181388, 0.015622747134795497, 0.031245494269590994, 0.9855694515768126, 0.9229998960905682, 0.0717888808070442, 0.13493197518737673, 0.8545691761867193, 0.11454560135227121, 0.1298183481992407, 0.7330918486545357, 0.010181831231312995, 0.012727289039141245, 0.7597472692528928, 0.23701517374128706, 0.20119842754167966, 0.7880271745382453, 0.04914357541948217, 0.8845843575506791, 0.023176665839269958, 0.4264506514425672, 0.4264506514425672, 0.11124799602849579, 0.013905999503561974, 0.14878301423524412, 0.8307051628134463, 0.012398584519603677, 0.012398584519603677, 0.019136457946611934, 0.21050103741273127, 0.13395520562628355, 0.6315031122381938, 0.49048562211653246, 0.00784776995386452, 0.4277034624856163, 0.05101050470011938, 0.02354330986159356, 0.9663057504606778, 0.9538625526127226, 0.14491190687719277, 0.8332434645438584, 0.018113988359649096, 0.07700408974214203, 0.3368928926218714, 0.1251316458309808, 0.10588062339544528, 0.3561439150574069, 0.07402736655385138, 0.9130041874975003, 0.17591675416581531, 0.8041908761865844, 0.24094777704679965, 0.14682755163789354, 0.44424746393003683, 0.12423869753975607, 0.04141289917991869, 0.8980564858907932, 0.01870951012272486, 0.01870951012272486, 0.03741902024544972, 0.9892182418587578, 0.567956392180365, 0.08414168773042445, 0.1682833754608489, 0.07362397676412138, 0.10517710966303057, 0.023526110547062978, 0.8469399796942672, 0.05881527636765744, 0.05881527636765744, 0.9910664355618183, 0.9124146689882814, 0.9302865219297196, 0.021142875498402717, 0.021142875498402717, 0.05928956814782652, 0.8419118676991366, 0.04743165451826122, 0.04743165451826122, 0.1462141275033569, 0.026584386818792164, 0.5848565100134276, 0.23925948136912947, 0.964165366539017, 0.9730728856465554, 0.0134639613183138, 0.067319806591569, 0.6900280175635823, 0.1884954584563932, 0.03702589362536295, 0.08277757348661761, 0.8277757348661762, 0.272658740602119, 0.23857639802685413, 0.34082342575264873, 0.15337054158869193, 0.8136632596027101, 0.8878548264764058, 0.0522267544986121, 0.04715170474025309, 0.7544272758440494, 0.011787926185063273, 0.10609133566556946, 0.0825154832954429, 0.015912370641915655, 0.7956185320957827, 0.06364948256766262, 0.12729896513532524, 0.8652659625199478, 0.5383777062110533, 0.21708778476252147, 0.09117686960025902, 0.15196144933376504, 0.010460296882017424, 0.889125234971481, 0.010460296882017424, 0.08368237505613939, 0.899416977237777, 0.00885459167344849, 0.5932576421210489, 0.07969132506103642, 0.15938265012207284, 0.15938265012207284, 0.8639057222027757, 0.08860571509772058, 0.04430285754886029, 0.3286764493976233, 0.41333553484852625, 0.14939838608982878, 0.10955881646587443, 0.05179902752991303, 0.8805834680085215, 0.9459929587657178, 0.0461459979885716, 0.11248769967926628, 0.8717796725143137, 0.9819128675756004, 0.05486354552553292, 0.7406578645946944, 0.10972709105106584, 0.05486354552553292, 0.04114765914414969, 0.9902533534287872, 0.060119945797775826, 0.9017991869666374, 0.10877520505709372, 0.8702016404567497, 0.10742220559687042, 0.8593776447749634, 0.05487497704741404, 0.9054371212823317, 0.02743748852370702, 0.9793676529466822, 0.9867890167564688, 0.9641848068416478, 0.03883918704235075, 0.7088151635229013, 0.05825878056352613, 0.155356748169403, 0.04854898380293844, 0.15488227336468052, 0.13939404602821248, 0.06195290934587221, 0.6350173207951901, 0.9483276557041732, 0.03469491423307951, 0.0517980458312716, 0.8805667791316173, 0.4963165287193555, 0.01872892561205115, 0.28093388418076726, 0.10300909086628132, 0.09832685946326854, 0.96181528655364, 0.8218377217140451, 0.16436754434280904, 0.009668679078988766, 0.3732017241962024, 0.017416080462489446, 0.5859267069880377, 0.003732017241962024, 0.019904091957130794, 0.8659792137868283, 0.050939953752166374, 0.008489992292027728, 0.07640993062824956, 0.9235707754728874, 0.026387736442082498, 0.052775472884164995, 0.05483220545047661, 0.9321474926581023, 0.17474099523299508, 0.04077289888769885, 0.4892747866523862, 0.2737608925316923, 0.017474099523299508, 0.011178414376486333, 0.100605729388377, 0.2571035306591857, 0.5477423044478303, 0.08942731501189066, 0.05840977193948166, 0.3337701253684666, 0.1418523032815983, 0.4589339223816416, 0.1349764994093534, 0.2699529988187068, 0.0736235451323746, 0.5153648159266221, 0.9027195155427015, 0.00982419165268057, 0.42735233689160484, 0.21613221635897256, 0.08841772487412514, 0.26034107879603513, 0.4176189080704313, 0.11778994843012165, 0.06424906278006635, 0.3962025538104092, 0.016253622398252295, 0.048760867194756884, 0.07314130079213532, 0.04063405599563073, 0.8208079311117409, 0.8852935947349815, 0.026827078628332772, 0.10730831451333109, 0.9433915034313546, 0.04965218439112393, 0.9728935132112074, 0.34535713520245914, 0.473091966030766, 0.10881115218707618, 0.052040116263384256, 0.01419275898092298, 0.783826927962794, 0.16217108854402634, 0.040542772136006586, 0.013514257378668862, 0.983490625387976, 0.9642240689991618, 0.024410735924029415, 0.9661384095953534, 0.023564351453545206, 0.023564351453545206, 0.0768836824245245, 0.9097902420235398, 0.9636114995952522, 0.00823849666967666, 0.34807648429383886, 0.3068840009454556, 0.014417369171934155, 0.32130137011738974, 0.12191863489722696, 0.2926047237533447, 0.04876745395889078, 0.5333940276753679, 0.05189542921487097, 0.19028324045452688, 0.7611329618181075, 0.04913842279521855, 0.884491610313934, 0.11160285355390591, 0.013950356694238239, 0.055801426776952955, 0.7672696181831031, 0.055801426776952955, 0.014498135375445458, 0.11598508300356367, 0.10148694762811822, 0.7684011748986093, 0.014498135375445458, 0.9636307676968369, 0.8797293083496193, 0.091638469619752, 0.0183276939239504, 0.7736358830341792, 0.07627396029914442, 0.021792560085469835, 0.14165164055555393, 0.9636158843839899, 0.021028632682852193, 0.7780594092655312, 0.08411453073140877, 0.05607635382093919, 0.06308589804855659, 0.989866842210014, 0.39349656234132857, 0.1041608547374105, 0.5034441312308174, 0.08996149283694396, 0.7796662712535143, 0.1499358213949066, 0.4367302916762644, 0.5415455616785678, 0.9612679553793536, 0.9193054150886819, 0.8081720621791846, 0.014303930304056365, 0.10012751212839455, 0.05006375606419727, 0.02860786060811273, 0.06729378039059669, 0.11215630065099448, 0.15701882091139227, 0.6729378039059669, 0.12991877088346232, 0.822818882261928, 0.11164762317537649, 0.8559651110112197, 0.9583503221324903, 0.03422679721901751, 0.975754511836228, 0.026924671016248566, 0.10769868406499426, 0.807740130487457, 0.05384934203249713, 0.9803513943478128, 0.047028820252474166, 0.8935475847970091, 0.047028820252474166, 0.1104698525959699, 0.42179398263915785, 0.03682328419865664, 0.42848912522073174, 0.02452768112064408, 0.08175893706881361, 0.34338753568901714, 0.5477848783610512, 0.7725953846320706, 0.24857101529640097, 0.3748293087802872, 0.07891143342742889, 0.071020290084686, 0.2248975852681723, 0.882954783533069, 0.08026861668482446, 0.825116823925777, 0.02357476639787934, 0.14144859838727605, 0.01178738319893967, 0.09619443178516028, 0.04809721589258014, 0.8657498860664424, 0.9423156841257152, 0.966673932737771, 0.03375437225976541, 0.16202098684687397, 0.7628488130706982, 0.03375437225976541, 0.013501748903906163, 0.9232652116403784, 0.06839001567706507, 0.5776901524888852, 0.30113635608463163, 0.030728199600472614, 0.09218459880141784, 0.520275703354654, 0.0945955824281189, 0.23648895607029724, 0.10551045732367108, 0.04729779121405945, 0.11521171784618996, 0.052368962657359075, 0.7384023734687629, 0.06284275518883088, 0.03142137759441544, 0.7261851345512745, 0.24690294574743332, 0.021785554036538233, 0.08307089190468459, 0.886089513649969, 0.027690297301561532, 0.9706054409706464, 0.9009669057319355, 0.07207735245855484, 0.01801933811463871, 0.28407116208488575, 0.2257003753551147, 0.16732958862534367, 0.21791760379114522, 0.10506741611358787, 0.10933656885426446, 0.17962436311772018, 0.5388730893531605, 0.14838534344507318, 0.02342926475448524, 0.974458638102077, 0.9757574902516142, 0.9511281587155569, 0.015866157947773643, 0.9202371609708714, 0.06346463179109457, 0.9206462217865271, 0.061376414785768475, 0.06735380081113378, 0.2087967825145147, 0.6533318678679976, 0.0606184207300204, 0.013470760162226755], \"Term\": [\"000\", \"000\", \"000\", \"000\", \"000\", \"1959\", \"1959\", \"1960\", \"1960\", \"1960\", \"1961\", \"1961\", \"1961\", \"1961\", \"1961\", \"30\", \"30\", \"30\", \"30\", \"30\", \"62\", \"academic\", \"act\", \"act\", \"act\", \"act\", \"act\", \"adjustments\", \"adjustments\", \"administration\", \"administration\", \"administration\", \"administration\", \"adopting\", \"agreement\", \"agreement\", \"agreement\", \"aid\", \"aid\", \"aid\", \"aid\", \"aid\", \"aircraft\", \"aircraft\", \"alexander\", \"allocation\", \"allocation\", \"american\", \"american\", \"american\", \"american\", \"american\", \"anne\", \"anti\", \"anti\", \"anti\", \"appearances\", \"areas\", \"areas\", \"areas\", \"areas\", \"areas\", \"art\", \"art\", \"art\", \"art\", \"assessment\", \"assigned\", \"assigned\", \"authorized\", \"authorized\", \"authorized\", \"available\", \"available\", \"available\", \"available\", \"away\", \"away\", \"away\", \"away\", \"baby\", \"bankers\", \"banks\", \"banks\", \"baseball\", \"bed\", \"bed\", \"berlin\", \"berlin\", \"billion\", \"billion\", \"black\", \"black\", \"black\", \"board\", \"board\", \"board\", \"board\", \"board\", \"boats\", \"boats\", \"bombs\", \"bonds\", \"bonds\", \"bride\", \"business\", \"business\", \"business\", \"business\", \"business\", \"calendar\", \"calendar\", \"calendar\", \"came\", \"came\", \"came\", \"came\", \"campus\", \"captain\", \"cars\", \"cars\", \"cars\", \"castro\", \"catholic\", \"catholic\", \"cattle\", \"cattle\", \"cattle\", \"chamber\", \"chamber\", \"charter\", \"chemical\", \"chemical\", \"china\", \"china\", \"chinese\", \"city\", \"city\", \"city\", \"city\", \"claim\", \"claim\", \"claim\", \"claim\", \"claims\", \"claims\", \"claims\", \"claims\", \"class\", \"class\", \"class\", \"class\", \"classical\", \"clay\", \"clay\", \"clay\", \"clerical\", \"cloth\", \"clothes\", \"co\", \"co\", \"co\", \"co\", \"coach\", \"coal\", \"coal\", \"coat\", \"collective\", \"collective\", \"college\", \"college\", \"college\", \"college\", \"colleges\", \"colleges\", \"colleges\", \"colleges\", \"colored\", \"colors\", \"colors\", \"come\", \"come\", \"come\", \"come\", \"come\", \"committee\", \"committee\", \"committee\", \"commodities\", \"commodities\", \"commodities\", \"communist\", \"communist\", \"communist\", \"company\", \"company\", \"company\", \"company\", \"compared\", \"compared\", \"components\", \"congo\", \"connections\", \"conservation\", \"coordination\", \"cost\", \"cost\", \"cost\", \"cost\", \"cost\", \"couldn\", \"couldn\", \"countries\", \"countries\", \"countries\", \"countries\", \"county\", \"county\", \"county\", \"county\", \"cousin\", \"creative\", \"creative\", \"creative\", \"cuba\", \"cuba\", \"cuban\", \"curriculum\", \"curriculum\", \"daily\", \"daily\", \"daily\", \"daily\", \"daily\", \"day\", \"day\", \"day\", \"day\", \"day\", \"definition\", \"democratic\", \"democratic\", \"democrats\", \"denied\", \"denied\", \"department\", \"department\", \"department\", \"department\", \"design\", \"design\", \"design\", \"designer\", \"designer\", \"development\", \"development\", \"development\", \"development\", \"didn\", \"didn\", \"didn\", \"don\", \"don\", \"don\", \"don\", \"don\", \"door\", \"door\", \"door\", \"drill\", \"drill\", \"dry\", \"east\", \"east\", \"east\", \"east\", \"education\", \"education\", \"education\", \"education\", \"education\", \"eisenhower\", \"eisenhower\", \"electronic\", \"engineer\", \"engineer\", \"engineer\", \"entrance\", \"equipment\", \"equipment\", \"equipment\", \"exercise\", \"exercise\", \"exercise\", \"eyes\", \"eyes\", \"eyes\", \"faculty\", \"faculty\", \"federal\", \"federal\", \"federal\", \"federal\", \"feed\", \"feed\", \"feed\", \"feed\", \"fig\", \"filing\", \"filing\", \"fingers\", \"fiscal\", \"fiscal\", \"flowers\", \"forests\", \"forests\", \"frames\", \"fulfill\", \"game\", \"game\", \"game\", \"game\", \"gen\", \"general\", \"general\", \"general\", \"general\", \"general\", \"good\", \"good\", \"good\", \"good\", \"good\", \"got\", \"got\", \"government\", \"government\", \"government\", \"government\", \"guests\", \"guests\", \"hadn\", \"hadn\", \"hair\", \"ham\", \"handsome\", \"hated\", \"hearing\", \"hearing\", \"hearing\", \"hell\", \"high\", \"high\", \"high\", \"high\", \"high\", \"home\", \"home\", \"home\", \"home\", \"home\", \"house\", \"house\", \"house\", \"house\", \"house\", \"inch\", \"inch\", \"inch\", \"inch\", \"income\", \"income\", \"income\", \"income\", \"india\", \"india\", \"india\", \"india\", \"industrial\", \"industrial\", \"industry\", \"industry\", \"industry\", \"industry\", \"insurance\", \"insurance\", \"insurance\", \"insurance\", \"interference\", \"interference\", \"interference\", \"interference\", \"interior\", \"interior\", \"interior\", \"interior\", \"inventories\", \"investment\", \"investment\", \"island\", \"island\", \"island\", \"island\", \"island\", \"john\", \"john\", \"john\", \"john\", \"john\", \"junior\", \"junior\", \"junior\", \"junior\", \"katanga\", \"kennedy\", \"kennedy\", \"kennedy\", \"kennedy\", \"khrushchev\", \"knew\", \"knew\", \"knew\", \"knew\", \"know\", \"know\", \"know\", \"know\", \"know\", \"labor\", \"labor\", \"labor\", \"labor\", \"laboratory\", \"laos\", \"laos\", \"leaders\", \"leaders\", \"leaders\", \"league\", \"league\", \"league\", \"left\", \"left\", \"left\", \"left\", \"let\", \"let\", \"let\", \"let\", \"let\", \"level\", \"level\", \"level\", \"level\", \"level\", \"life\", \"life\", \"life\", \"life\", \"life\", \"liked\", \"little\", \"little\", \"little\", \"little\", \"little\", \"ll\", \"ll\", \"ll\", \"ll\", \"local\", \"local\", \"local\", \"local\", \"local\", \"look\", \"look\", \"look\", \"look\", \"look\", \"looked\", \"looked\", \"looked\", \"looked\", \"machine\", \"machine\", \"machinery\", \"machinery\", \"machinery\", \"machines\", \"machines\", \"machines\", \"man\", \"man\", \"man\", \"man\", \"man\", \"manufacturers\", \"manufacturers\", \"manufacturing\", \"manufacturing\", \"marketing\", \"mathematics\", \"mayor\", \"mayor\", \"meat\", \"meat\", \"meat\", \"medical\", \"medical\", \"medical\", \"meeting\", \"meeting\", \"meeting\", \"meeting\", \"members\", \"members\", \"members\", \"members\", \"membership\", \"membership\", \"membership\", \"men\", \"men\", \"men\", \"men\", \"men\", \"military\", \"military\", \"military\", \"million\", \"million\", \"million\", \"million\", \"million\", \"missile\", \"missile\", \"missiles\", \"monday\", \"monday\", \"monday\", \"monday\", \"moscow\", \"mother\", \"mother\", \"motors\", \"motors\", \"mr\", \"mr\", \"mr\", \"mr\", \"mr\", \"mrs\", \"mrs\", \"music\", \"music\", \"musical\", \"musical\", \"national\", \"national\", \"national\", \"national\", \"national\", \"nations\", \"nations\", \"nations\", \"nations\", \"officer\", \"officer\", \"officer\", \"officer\", \"old\", \"old\", \"old\", \"old\", \"old\", \"opposition\", \"pale\", \"party\", \"party\", \"party\", \"pay\", \"pay\", \"pay\", \"pay\", \"pay\", \"payment\", \"payment\", \"payments\", \"payments\", \"people\", \"people\", \"people\", \"people\", \"people\", \"pieces\", \"pieces\", \"pieces\", \"pieces\", \"pink\", \"place\", \"place\", \"place\", \"place\", \"place\", \"planning\", \"planning\", \"planning\", \"planning\", \"player\", \"polaris\", \"police\", \"police\", \"police\", \"political\", \"political\", \"political\", \"political\", \"pool\", \"pool\", \"pool\", \"pool\", \"pope\", \"premier\", \"president\", \"president\", \"president\", \"president\", \"president\", \"prestige\", \"prestige\", \"problem\", \"problem\", \"problem\", \"problem\", \"proceedings\", \"procurement\", \"procurement\", \"production\", \"production\", \"production\", \"production\", \"production\", \"products\", \"products\", \"products\", \"products\", \"professors\", \"program\", \"program\", \"program\", \"program\", \"property\", \"property\", \"property\", \"property\", \"prosperity\", \"provide\", \"provide\", \"provide\", \"provide\", \"provide\", \"providence\", \"providence\", \"providence\", \"public\", \"public\", \"public\", \"public\", \"puerto\", \"puerto\", \"race\", \"race\", \"radiation\", \"radiation\", \"railroad\", \"range\", \"range\", \"range\", \"range\", \"range\", \"rayburn\", \"recognition\", \"recognition\", \"recommendation\", \"recommendation\", \"recorded\", \"recorded\", \"recreation\", \"recreation\", \"recreation\", \"rehabilitation\", \"republican\", \"republicans\", \"research\", \"research\", \"research\", \"research\", \"research\", \"return\", \"return\", \"return\", \"return\", \"rhode\", \"rhode\", \"rico\", \"rico\", \"right\", \"right\", \"right\", \"right\", \"right\", \"robinson\", \"room\", \"room\", \"room\", \"said\", \"said\", \"said\", \"said\", \"said\", \"sales\", \"sales\", \"sales\", \"sales\", \"sat\", \"sat\", \"sat\", \"savings\", \"savings\", \"school\", \"school\", \"school\", \"school\", \"school\", \"schools\", \"schools\", \"schools\", \"schools\", \"schools\", \"secretary\", \"secretary\", \"secretary\", \"secretary\", \"section\", \"section\", \"section\", \"section\", \"sectors\", \"service\", \"service\", \"service\", \"service\", \"service\", \"services\", \"services\", \"services\", \"services\", \"shall\", \"shall\", \"shall\", \"shall\", \"shall\", \"shares\", \"shares\", \"shares\", \"shelter\", \"shelter\", \"shipments\", \"small\", \"small\", \"small\", \"small\", \"small\", \"son\", \"son\", \"son\", \"son\", \"southern\", \"soviet\", \"soviet\", \"speaker\", \"speaker\", \"speaker\", \"st\", \"st\", \"stared\", \"state\", \"state\", \"state\", \"state\", \"state\", \"states\", \"states\", \"states\", \"states\", \"stations\", \"stations\", \"stations\", \"stockholders\", \"stockholders\", \"student\", \"student\", \"student\", \"student\", \"student\", \"students\", \"students\", \"students\", \"students\", \"students\", \"studio\", \"sun\", \"sun\", \"sun\", \"sure\", \"sure\", \"sure\", \"sure\", \"sweet\", \"system\", \"system\", \"system\", \"system\", \"system\", \"systems\", \"tax\", \"tax\", \"tax\", \"teachers\", \"teachers\", \"teachers\", \"technical\", \"technical\", \"tends\", \"thereof\", \"thought\", \"thought\", \"thought\", \"thought\", \"thought\", \"title\", \"title\", \"title\", \"title\", \"tractor\", \"tractor\", \"treasury\", \"treasury\", \"trees\", \"trees\", \"troops\", \"trust\", \"trust\", \"trust\", \"trust\", \"trustees\", \"unions\", \"unions\", \"unions\", \"united\", \"united\", \"united\", \"united\", \"university\", \"university\", \"university\", \"university\", \"upstairs\", \"use\", \"use\", \"use\", \"use\", \"use\", \"utility\", \"utility\", \"ve\", \"ve\", \"ve\", \"ve\", \"vehicles\", \"vehicles\", \"vehicles\", \"vocational\", \"walls\", \"war\", \"war\", \"war\", \"war\", \"war\", \"wasn\", \"wasn\", \"water\", \"water\", \"water\", \"water\", \"way\", \"way\", \"way\", \"way\", \"way\", \"week\", \"week\", \"week\", \"week\", \"week\", \"went\", \"went\", \"went\", \"west\", \"west\", \"west\", \"windows\", \"woman\", \"woman\", \"woman\", \"work\", \"work\", \"work\", \"work\", \"work\", \"world\", \"world\", \"world\", \"world\", \"world\", \"yankees\", \"yards\", \"yellow\", \"yesterday\", \"yesterday\", \"yesterday\", \"yield\", \"yield\", \"york\", \"york\", \"york\", \"york\", \"york\"]}, \"R\": 30, \"lambda.step\": 0.01, \"plot.opts\": {\"xlab\": \"PC1\", \"ylab\": \"PC2\"}, \"topic.order\": [1, 2, 3, 4, 5]};\n",
       "\n",
       "function LDAvis_load_lib(url, callback){\n",
       "  var s = document.createElement('script');\n",
       "  s.src = url;\n",
       "  s.async = true;\n",
       "  s.onreadystatechange = s.onload = callback;\n",
       "  s.onerror = function(){console.warn(\"failed to load library \" + url);};\n",
       "  document.getElementsByTagName(\"head\")[0].appendChild(s);\n",
       "}\n",
       "\n",
       "if(typeof(LDAvis) !== \"undefined\"){\n",
       "   // already loaded: just create the visualization\n",
       "   !function(LDAvis){\n",
       "       new LDAvis(\"#\" + \"ldavis_el460611403727200407529788451707\", ldavis_el460611403727200407529788451707_data);\n",
       "   }(LDAvis);\n",
       "}else if(typeof define === \"function\" && define.amd){\n",
       "   // require.js is available: use it to load d3/LDAvis\n",
       "   require.config({paths: {d3: \"https://d3js.org/d3.v5\"}});\n",
       "   require([\"d3\"], function(d3){\n",
       "      window.d3 = d3;\n",
       "      LDAvis_load_lib(\"https://cdn.jsdelivr.net/gh/bmabey/pyLDAvis@3.3.1/pyLDAvis/js/ldavis.v3.0.0.js\", function(){\n",
       "        new LDAvis(\"#\" + \"ldavis_el460611403727200407529788451707\", ldavis_el460611403727200407529788451707_data);\n",
       "      });\n",
       "    });\n",
       "}else{\n",
       "    // require.js not available: dynamically load d3 & LDAvis\n",
       "    LDAvis_load_lib(\"https://d3js.org/d3.v5.js\", function(){\n",
       "         LDAvis_load_lib(\"https://cdn.jsdelivr.net/gh/bmabey/pyLDAvis@3.3.1/pyLDAvis/js/ldavis.v3.0.0.js\", function(){\n",
       "                 new LDAvis(\"#\" + \"ldavis_el460611403727200407529788451707\", ldavis_el460611403727200407529788451707_data);\n",
       "            })\n",
       "         });\n",
       "}\n",
       "</script>"
      ],
      "text/plain": [
       "<IPython.core.display.HTML object>"
      ]
     },
     "execution_count": 19,
     "metadata": {},
     "output_type": "execute_result"
    }
   ],
   "source": [
    "pyLDAvis.display(lda_display)"
   ]
  },
  {
   "cell_type": "markdown",
   "id": "a3d14c87",
   "metadata": {},
   "source": [
    "Q: What conclusions do you draw from the visualization above? Please address the principal component scatterplot and the salient terms graph.\n",
    "\n",
    "A: The principal component scatterplot shows that each topic is clearly separable from the other and they are each unique. There is no overlap between any of the topics. It also shows that Topic 3 is the largest topic in relative terms, with Topics 4 and 5 being the smallest.\n",
    "\n",
    "The salient terms graph shows how unique or pronounced each topic is, with 3, 5, and 1 being the most pronounced topics. Topic 3 in particular is most pronounced, as the term frequency quickly decreases. Topics 2 and 4 are less unique and pronounced, with there being a more even frequency distribution among the words.\n"
   ]
  }
 ],
 "metadata": {
  "kernelspec": {
   "display_name": "Python 3 (ipykernel)",
   "language": "python",
   "name": "python3"
  },
  "language_info": {
   "codemirror_mode": {
    "name": "ipython",
    "version": 3
   },
   "file_extension": ".py",
   "mimetype": "text/x-python",
   "name": "python",
   "nbconvert_exporter": "python",
   "pygments_lexer": "ipython3",
   "version": "3.9.7"
  }
 },
 "nbformat": 4,
 "nbformat_minor": 5
}
